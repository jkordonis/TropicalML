{
  "nbformat": 4,
  "nbformat_minor": 0,
  "metadata": {
    "colab": {
      "name": "ReLUcompression.ipynb",
      "provenance": [],
      "collapsed_sections": [
        "qh8rGjs5DmaM",
        "Wpv9-Oh7tOxh"
      ],
      "authorship_tag": "ABX9TyMFIsV6pNfd/Jir6hDCUa5M",
      "include_colab_link": true
    },
    "kernelspec": {
      "name": "python3",
      "display_name": "Python 3"
    },
    "language_info": {
      "name": "python"
    }
  },
  "cells": [
    {
      "cell_type": "markdown",
      "metadata": {
        "id": "view-in-github",
        "colab_type": "text"
      },
      "source": [
        "<a href=\"https://colab.research.google.com/github/jkordonis/TropicalML/blob/main/ReLUcompression.ipynb\" target=\"_parent\"><img src=\"https://colab.research.google.com/assets/colab-badge.svg\" alt=\"Open In Colab\"/></a>"
      ]
    },
    {
      "cell_type": "code",
      "execution_count": 242,
      "metadata": {
        "id": "dYz2E2gDiHlR"
      },
      "outputs": [],
      "source": [
        "import numpy as np\n",
        "from tensorflow import keras\n",
        "from tensorflow.keras import layers\n",
        "import matplotlib.pyplot as plt\n",
        "import math\n",
        "from scipy.linalg import block_diag\n",
        "import os\n",
        "import io\n",
        "import cvxpy as cp\n",
        "\n"
      ]
    },
    {
      "cell_type": "markdown",
      "source": [
        "\n",
        "\n",
        "```\n",
        "# This is formatted as code\n",
        "```\n",
        "\n",
        "# MNIST Train from Keras"
      ],
      "metadata": {
        "id": "-HCVVuxD-rKz"
      }
    },
    {
      "cell_type": "code",
      "source": [
        "num_classes = 10 # Initially 10 classes\n",
        "input_shape = (28, 28, 1)\n",
        "\n",
        "# the data, split between train and test sets\n",
        "(x_train, y_train), (x_test, y_test) = keras.datasets.mnist.load_data()\n",
        "\n",
        "# Scale images to the [0, 1] range\n",
        "x_train = x_train.astype(\"float32\") / 255\n",
        "x_test = x_test.astype(\"float32\") / 255\n",
        "# Make sure images have shape (28, 28, 1)\n",
        "x_train = np.expand_dims(x_train, -1)\n",
        "x_test = np.expand_dims(x_test, -1)\n",
        "print(\"x_train shape:\", x_train.shape)\n",
        "print(x_train.shape[0], \"train samples\")\n",
        "print(x_test.shape[0], \"test samples\")\n",
        "\n",
        "\n",
        "# convert class vectors to binary class matrices\n",
        "y_train = keras.utils.to_categorical(y_train, num_classes)\n",
        "y_test = keras.utils.to_categorical(y_test, num_classes)"
      ],
      "metadata": {
        "colab": {
          "base_uri": "https://localhost:8080/"
        },
        "id": "xSeoYpfb-pJs",
        "outputId": "5851a69d-7aef-4e7d-f54d-3d8493e84a1f"
      },
      "execution_count": 243,
      "outputs": [
        {
          "output_type": "stream",
          "name": "stdout",
          "text": [
            "x_train shape: (60000, 28, 28, 1)\n",
            "60000 train samples\n",
            "10000 test samples\n"
          ]
        }
      ]
    },
    {
      "cell_type": "code",
      "source": [
        "Ner=100\n",
        "model = keras.Sequential(\n",
        "    [\n",
        "        keras.Input(shape=input_shape),\n",
        "        layers.Flatten(),\n",
        "        layers.Dense(Ner, activation=\"relu\"),     \n",
        "        layers.Dense(10, activation=\"softmax\"),\n",
        "    ]\n",
        ")\n",
        "\n",
        "model.summary()"
      ],
      "metadata": {
        "colab": {
          "base_uri": "https://localhost:8080/"
        },
        "id": "inrQEk9T-kkd",
        "outputId": "b4f9eaba-5ab6-4b05-ce60-7e29542b9c3b"
      },
      "execution_count": 244,
      "outputs": [
        {
          "output_type": "stream",
          "name": "stdout",
          "text": [
            "Model: \"sequential_1\"\n",
            "_________________________________________________________________\n",
            " Layer (type)                Output Shape              Param #   \n",
            "=================================================================\n",
            " flatten_1 (Flatten)         (None, 784)               0         \n",
            "                                                                 \n",
            " dense_2 (Dense)             (None, 100)               78500     \n",
            "                                                                 \n",
            " dense_3 (Dense)             (None, 10)                1010      \n",
            "                                                                 \n",
            "=================================================================\n",
            "Total params: 79,510\n",
            "Trainable params: 79,510\n",
            "Non-trainable params: 0\n",
            "_________________________________________________________________\n"
          ]
        }
      ]
    },
    {
      "cell_type": "code",
      "source": [
        "batch_size = 128\n",
        "epochs = 8\n",
        "\n",
        "model.compile(loss=\"categorical_crossentropy\", optimizer=\"adam\", metrics=[\"accuracy\"])\n",
        "\n",
        "model.fit(x_train, y_train, batch_size=batch_size, epochs=epochs, validation_split=0.1)"
      ],
      "metadata": {
        "colab": {
          "base_uri": "https://localhost:8080/"
        },
        "id": "UYzcq_D2-LlE",
        "outputId": "8c5568aa-4a34-48b4-b8fb-04f5a461d3bc"
      },
      "execution_count": 245,
      "outputs": [
        {
          "output_type": "stream",
          "name": "stdout",
          "text": [
            "Epoch 1/8\n",
            "422/422 [==============================] - 2s 4ms/step - loss: 0.4024 - accuracy: 0.8903 - val_loss: 0.1850 - val_accuracy: 0.9485\n",
            "Epoch 2/8\n",
            "422/422 [==============================] - 2s 4ms/step - loss: 0.1931 - accuracy: 0.9454 - val_loss: 0.1397 - val_accuracy: 0.9618\n",
            "Epoch 3/8\n",
            "422/422 [==============================] - 2s 4ms/step - loss: 0.1429 - accuracy: 0.9587 - val_loss: 0.1197 - val_accuracy: 0.9673\n",
            "Epoch 4/8\n",
            "422/422 [==============================] - 2s 4ms/step - loss: 0.1120 - accuracy: 0.9677 - val_loss: 0.1026 - val_accuracy: 0.9712\n",
            "Epoch 5/8\n",
            "422/422 [==============================] - 2s 4ms/step - loss: 0.0915 - accuracy: 0.9743 - val_loss: 0.0991 - val_accuracy: 0.9737\n",
            "Epoch 6/8\n",
            "422/422 [==============================] - 2s 4ms/step - loss: 0.0769 - accuracy: 0.9777 - val_loss: 0.0910 - val_accuracy: 0.9743\n",
            "Epoch 7/8\n",
            "422/422 [==============================] - 2s 4ms/step - loss: 0.0662 - accuracy: 0.9810 - val_loss: 0.0907 - val_accuracy: 0.9747\n",
            "Epoch 8/8\n",
            "422/422 [==============================] - 2s 4ms/step - loss: 0.0574 - accuracy: 0.9835 - val_loss: 0.0827 - val_accuracy: 0.9775\n"
          ]
        },
        {
          "output_type": "execute_result",
          "data": {
            "text/plain": [
              "<keras.callbacks.History at 0x7f93f033b2d0>"
            ]
          },
          "metadata": {},
          "execution_count": 245
        }
      ]
    },
    {
      "cell_type": "code",
      "source": [
        "W1=model.layers[1].weights[0].numpy()\n",
        "b1=model.layers[1].weights[1].numpy()\n",
        "W2=model.layers[2].weights[0].numpy()\n",
        "b2=model.layers[2].weights[1].numpy()"
      ],
      "metadata": {
        "id": "tLehubRx-OnD"
      },
      "execution_count": 246,
      "outputs": []
    },
    {
      "cell_type": "markdown",
      "source": [
        "\n",
        "\n",
        "```\n",
        "# This is formatted as code\n",
        "```\n",
        "\n",
        "# Reshaping Data for 3-5 distinction and Tropical Polynomials"
      ],
      "metadata": {
        "id": "CdaTuL9s-6DV"
      }
    },
    {
      "cell_type": "code",
      "source": [
        "x_test_vec =np.zeros([10000, 784])\n",
        "for i in range(10000):\n",
        "  b = np.reshape(x_test[i],(784))\n",
        "  x_test_vec[i]=b\n",
        "\n",
        "err=0\n",
        "y_pred=np.zeros((10000,10))\n",
        "for i in range(10000):\n",
        "  z =  np.matmul(W1.T,x_test_vec[i]) +b1\n",
        "  z=np.maximum(z, np.zeros(Ner))\n",
        "  y=np.matmul(W2.T,z)+b2\n",
        "  y_pred[i]=y\n",
        "  err_i=0\n",
        "  if np.inner(y_test[i],[0,0,0,1,0,1,0,0,0,0])==1:\n",
        "    if np.argmax(y)!=np.argmax(y_test[i]):\n",
        "      err_i=1\n",
        "  err=err+err_i\n",
        "err"
      ],
      "metadata": {
        "colab": {
          "base_uri": "https://localhost:8080/"
        },
        "id": "3p9kbTgX_JqU",
        "outputId": "d011eac0-b101-4242-d364-b1ec2dce8f4f"
      },
      "execution_count": 247,
      "outputs": [
        {
          "output_type": "execute_result",
          "data": {
            "text/plain": [
              "54"
            ]
          },
          "metadata": {},
          "execution_count": 247
        }
      ]
    },
    {
      "cell_type": "code",
      "source": [
        "x_test_3_5=[]\n",
        "y_test_3_5=[]\n",
        "\n",
        "\n",
        "for i in range(10000):\n",
        "  if np.inner(y_test[i],[0,0,0,1,0,1,0,0,0,0])==1:\n",
        "    x_test_3_5.append(x_test_vec[i])\n",
        "    y_test_3_5.append(-1)\n",
        "    if np.inner(y_test[i],[0,0,0,1,0,0,0,0,0,0])==1:\n",
        "      y_test_3_5[-1]=1\n",
        "    if np.inner(y_test[i],[0,0,0,0,0,1,0,0,0,0])==1:\n",
        "      y_test_3_5[-1]=0\n",
        "\n",
        "x_test_3_5=np.array(x_test_3_5)\n",
        "y_test_3_5=np.array(y_test_3_5)\n",
        "\n",
        "\n",
        "x_train_3_5=[]\n",
        "y_train_3_5=[]\n",
        "x_train_vec =np.zeros([60000, 784])\n",
        "for i in range(60000):\n",
        "  b = np.reshape(x_train[i],(784))\n",
        "  x_train_vec[i]=b\n",
        "\n",
        "\n",
        "\n",
        "for i in range(60000):\n",
        "  if np.inner(y_train[i],[0,0,0,1,0,1,0,0,0,0])==1:\n",
        "    x_train_3_5.append(x_train_vec[i])\n",
        "    y_train_3_5.append(-1)\n",
        "    if np.inner(y_train[i],[0,0,0,1,0,0,0,0,0,0])==1:\n",
        "      y_train_3_5[-1]=1\n",
        "    if np.inner(y_train[i],[0,0,0,0,0,1,0,0,0,0])==1:\n",
        "      y_train_3_5[-1]=0\n",
        "\n",
        "x_train_3_5=np.array(x_train_3_5)\n",
        "y_train_3_5=np.array(y_train_3_5)\n"
      ],
      "metadata": {
        "id": "FW_qKoFt_SLe"
      },
      "execution_count": 248,
      "outputs": []
    },
    {
      "cell_type": "code",
      "source": [
        "# 3-5 IniOriginal  Error\n",
        "\n",
        "err=0\n",
        "for i in range(x_test_3_5.shape[0]):\n",
        "  z =  np.matmul(W1.T,x_test_3_5[i]) +b1\n",
        "  z=np.maximum(z, np.zeros(Ner))\n",
        "  y=np.matmul(W2.T,z)+b2\n",
        "  err_i=0\n",
        "  if y[3]>y[5] and y_test_3_5[i]==0:#if np.argmax(y)!=5 and y_test_3_5[i]==0:#\n",
        "    err_i=1\n",
        "  if y[3]<y[5] and y_test_3_5[i]==1:#if np.argmax(y)!=3 and y_test_3_5[i]==1:#\n",
        "    err_i=1\n",
        "  err=err+err_i\n",
        "err/x_test_3_5.shape[0]"
      ],
      "metadata": {
        "colab": {
          "base_uri": "https://localhost:8080/"
        },
        "id": "BZqsp1dD_SFU",
        "outputId": "7b550be5-9935-4599-a61c-2af2de6bf778"
      },
      "execution_count": 249,
      "outputs": [
        {
          "output_type": "execute_result",
          "data": {
            "text/plain": [
              "0.00946372239747634"
            ]
          },
          "metadata": {},
          "execution_count": 249
        }
      ]
    },
    {
      "cell_type": "code",
      "source": [
        "# Dimension Reduction\n",
        "W2_=W2[:,3]-W2[:,5]\n",
        "b2_=b2[3]-b2[5]\n",
        "\n",
        "err=0\n",
        "for i in range(x_test_3_5.shape[0]):\n",
        "  z =  np.matmul(W1.T,x_test_3_5[i]) +b1\n",
        "  z=np.maximum(z, np.zeros(Ner))\n",
        "  y=np.matmul(W2_.T,z)+b2_\n",
        "  err_i=0\n",
        "  if y>0 and y_test_3_5[i]==0:#if y[3]>y[5] and y_test_3_5[i]==0:\n",
        "    err_i=1\n",
        "  if y<0 and y_test_3_5[i]==1:#if y[3]<y[5] and y_test_3_5[i]==1:\n",
        "    err_i=1\n",
        "  err=err+err_i\n",
        "err/x_test_3_5.shape[0]"
      ],
      "metadata": {
        "colab": {
          "base_uri": "https://localhost:8080/"
        },
        "id": "yl4ZLbzY_o5U",
        "outputId": "d1e9a375-d25b-4373-f41e-e7650b16fb4f"
      },
      "execution_count": 250,
      "outputs": [
        {
          "output_type": "execute_result",
          "data": {
            "text/plain": [
              "0.00946372239747634"
            ]
          },
          "metadata": {},
          "execution_count": 250
        }
      ]
    },
    {
      "cell_type": "code",
      "source": [
        "W2_pl=np.maximum(W2_,np.zeros(W2_.shape))\n",
        "W2_min=np.maximum(-W2_,np.zeros(W2_.shape))\n",
        "ap_1 = np.zeros((W1.shape[1],W1.shape[0]))\n",
        "bp_1 = np.zeros(W1.shape[1])\n",
        "ap_2 = np.zeros((W1.shape[1],W1.shape[0]))\n",
        "bp_2 = np.zeros(W1.shape[1])\n",
        "\n",
        "\n",
        "for i in range(W1.shape[1]):\n",
        "  ap_1[i]=W2_pl[i]*W1.T[i]\n",
        "  bp_1[i]=W2_pl[i]*b1[i]\n",
        "  ap_2[i]=W2_min[i]*W1.T[i]\n",
        "  bp_2[i]=W2_min[i]*b1[i]"
      ],
      "metadata": {
        "id": "apqtDbu4ADAj"
      },
      "execution_count": 251,
      "outputs": []
    },
    {
      "cell_type": "markdown",
      "source": [
        "# QR Dimensionality Reduction \n",
        "\n",
        "```\n",
        "# This is formatted as code\n",
        "```\n",
        "\n"
      ],
      "metadata": {
        "id": "2RSeLI0i_1jD"
      }
    },
    {
      "cell_type": "code",
      "source": [
        "a1_vec=ap_1.T\n",
        "a2_vec=ap_2.T\n",
        "\n",
        "True_Val_1=(np.array([np.linalg.norm(a1_vec[:,i]) for i in range(a1_vec.shape[1])])!=0)\n",
        "True_Val_2=(np.array([np.linalg.norm(a2_vec[:,i]) for i in range(a2_vec.shape[1])])!=0)\n",
        "\n",
        "a1_nonz_vec  = a1_vec[:,True_Val_1]\n",
        "a2_nonz_vec  = a2_vec[:,True_Val_2]\n",
        "\n",
        "print(a1_nonz_vec.shape)\n",
        "print(a2_nonz_vec.shape)\n",
        "\n",
        "Q1,R1=np.linalg.qr(a1_nonz_vec,mode='reduced')\n",
        "Q2,R2=np.linalg.qr(a2_nonz_vec,mode='reduced')\n",
        " \n",
        "a1_red_vec = np.matmul(Q1.T,a1_nonz_vec)\n",
        "a2_red_vec = np.matmul(Q2.T,a2_nonz_vec)\n",
        "bp_1_red=bp_1[True_Val_1]\n",
        "bp_2_red=bp_2[True_Val_2]\n",
        "\n",
        "print(a1_red_vec.shape)\n",
        "print(a2_red_vec.shape)"
      ],
      "metadata": {
        "colab": {
          "base_uri": "https://localhost:8080/"
        },
        "id": "N_XsL7FV-waK",
        "outputId": "5022bded-5d56-474d-e035-904a835ae257"
      },
      "execution_count": 252,
      "outputs": [
        {
          "output_type": "stream",
          "name": "stdout",
          "text": [
            "(784, 54)\n",
            "(784, 46)\n",
            "(54, 54)\n",
            "(46, 46)\n"
          ]
        }
      ]
    },
    {
      "cell_type": "code",
      "source": [
        "\n",
        "X_sample1 = np.matmul(x_train_3_5,Q1) \n",
        "X_sample2 = np.matmul(x_train_3_5,Q2) \n",
        "\n",
        "\n",
        "X_sample1_test = np.matmul(x_test_3_5,Q1) \n",
        "X_sample2_test = np.matmul(x_test_3_5,Q2) \n",
        "\n",
        "m_q=5\n",
        "\n",
        "print(X_sample1_test.shape)\n",
        "print(a1_red_vec.shape)\n",
        "\n",
        "\n",
        "\n",
        "\n"
      ],
      "metadata": {
        "id": "LLKaQWoY_5hi",
        "colab": {
          "base_uri": "https://localhost:8080/"
        },
        "outputId": "1024e2af-489b-4b95-ead9-6f3584870e3e"
      },
      "execution_count": 382,
      "outputs": [
        {
          "output_type": "stream",
          "name": "stdout",
          "text": [
            "(1902, 54)\n",
            "(54, 54)\n"
          ]
        }
      ]
    },
    {
      "cell_type": "code",
      "source": [
        "err=0\n",
        "\n",
        "for i in range(X_sample1_test.shape[0]):\n",
        "  p1_val = np.sum( np.maximum(np.matmul(a1_red_vec.T,X_sample1_test[i]) +bp_1_red,np.zeros(a1_red_vec.shape[0])))\n",
        "  p2_val = np.sum( np.maximum(np.matmul(a2_red_vec.T,X_sample2_test[i]) +bp_2_red,np.zeros(a2_red_vec.shape[0])))\n",
        "  p_val =p1_val-p2_val+b2_\n",
        "  y=p_val\n",
        "  err_i=0\n",
        "  if y>0 and y_test_3_5[i]==0:#if y[3]>y[5] and y_test_3_5[i]==0:\n",
        "    err_i=1\n",
        "  if y<0 and y_test_3_5[i]==1:#if y[3]<y[5] and y_test_3_5[i]==1:\n",
        "    err_i=1\n",
        "  err=err+err_i\n",
        "err/X_sample1_test.shape[0]\n",
        "\n",
        "\n"
      ],
      "metadata": {
        "colab": {
          "base_uri": "https://localhost:8080/"
        },
        "id": "B6ZX6fCSA37D",
        "outputId": "598d1791-f7e3-47fa-fed1-b5221648c279"
      },
      "execution_count": 383,
      "outputs": [
        {
          "output_type": "execute_result",
          "data": {
            "text/plain": [
              "0.00946372239747634"
            ]
          },
          "metadata": {},
          "execution_count": 383
        }
      ]
    },
    {
      "cell_type": "code",
      "source": [
        "err=0\n",
        "for i in range(X_sample1.shape[0]):\n",
        "  p1_val = np.sum( np.maximum(np.matmul(a1_red_vec.T,X_sample1[i]) +bp_1_red,np.zeros(a1_red_vec.shape[0])))\n",
        "  p2_val = np.sum( np.maximum(np.matmul(a2_red_vec.T,X_sample2[i]) +bp_2_red,np.zeros(a2_red_vec.shape[0])))\n",
        "  p_val =p1_val-p2_val+b2_\n",
        "  y=p_val\n",
        "  err_i=0\n",
        "  if y>0 and y_train_3_5[i]==0:\n",
        "    err_i=1\n",
        "  if y<0 and y_train_3_5[i]==1:\n",
        "    err_i=1\n",
        "  err=err+err_i\n",
        "err/x_train_3_5.shape[0]#Training error(<Test error)"
      ],
      "metadata": {
        "colab": {
          "base_uri": "https://localhost:8080/"
        },
        "id": "XoMsapGsVX8B",
        "outputId": "ff7ed001-266b-48cb-8f47-6da87f04b112"
      },
      "execution_count": 384,
      "outputs": [
        {
          "output_type": "execute_result",
          "data": {
            "text/plain": [
              "0.00735803324099723"
            ]
          },
          "metadata": {},
          "execution_count": 384
        }
      ]
    },
    {
      "cell_type": "markdown",
      "source": [
        "#  Tropical Division 1"
      ],
      "metadata": {
        "id": "qh8rGjs5DmaM"
      }
    },
    {
      "cell_type": "code",
      "source": [
        "# Martix Definitions\n",
        "\n",
        "A=a1_red_vec\n",
        "d=A.shape[1]\n",
        "m_p=A.shape[0]\n",
        "B=bp_1_red\n",
        "\n",
        "p_pol=(A.T,B)\n",
        "\n",
        "\n",
        "A_inverse = np.linalg.inv(A)\n",
        "B_transp_A_inverse = np.matmul(B.T,A_inverse)\n",
        "B_transp_A_inverse_mat=B_transp_A_inverse \n",
        "A_inverse_hor_conc=A_inverse\n",
        "\n",
        "\n",
        "\n",
        "a_hat, b_hat=np.array(np.random.randn(m_q,d)), np.array(np.random.randn(m_q))\n",
        "q_pol=(a_hat, b_hat)\n",
        "X_sample=X_sample1[0:200]\n",
        "N_sample=X_sample1.shape[0]\n",
        "\n",
        "A_inv_mat = A_inverse\n",
        "\n",
        "for i in range(m_q-1):\n",
        "  A_inv_mat=block_diag(A_inv_mat,A_inverse) \n",
        "  B_transp_A_inverse_mat=block_diag(B_transp_A_inverse_mat,B_transp_A_inverse)\n",
        "  A_inverse_hor_conc=np.concatenate((A_inverse_hor_conc,A_inverse),axis=1)\n",
        "\n",
        "\n",
        "print(B_transp_A_inverse_mat.shape)\n"
      ],
      "metadata": {
        "colab": {
          "base_uri": "https://localhost:8080/"
        },
        "id": "YlwTm7cs6CUi",
        "outputId": "a95616fa-b458-4089-ab26-1db7b4d448f0"
      },
      "execution_count": 385,
      "outputs": [
        {
          "output_type": "stream",
          "name": "stdout",
          "text": [
            "(5, 270)\n"
          ]
        }
      ]
    },
    {
      "cell_type": "code",
      "source": [
        "def tropical_sum_pol_function(x,pol):\n",
        "  a_=pol[0]\n",
        "  b_=pol[1]\n",
        "  s= 0\n",
        "  for i in range(np.shape(a_)[0]):\n",
        "      s=s+max(np.inner(a_[i],x)+b_[i],0)\n",
        "  return(s)"
      ],
      "metadata": {
        "id": "4XOIUAqD8K_v"
      },
      "execution_count": 386,
      "outputs": []
    },
    {
      "cell_type": "code",
      "source": [
        "f_x_i=np.zeros(np.shape(X_sample)[0])\n",
        "for i in range(np.shape(X_sample)[0]):\n",
        "  f_x_i[i]=tropical_sum_pol_function(X_sample[i],p_pol)\n"
      ],
      "metadata": {
        "id": "Ek342ypDEzt6"
      },
      "execution_count": 387,
      "outputs": []
    },
    {
      "cell_type": "code",
      "source": [
        "# Phase 1\n",
        "def Phase_1_function_comp_quotient(X_sample,q_pol):\n",
        "  a_hat,b_hat=q_pol\n",
        "  m_q=a_hat.shape[0]\n",
        "  # Initialize sets I_i\n",
        "  c1 = np.zeros(X_sample.shape[1]*m_q)\n",
        "  y=np.zeros((m_q,X_sample.shape[0]))\n",
        "  for i in range(y.shape[0]):\n",
        "    for j in range(y.shape[1]):\n",
        "      y[i,j] = 1 if np.inner(a_hat[i],X_sample[j])+b_hat[i]>=0 else 0\n",
        "  c2=np.sum(y,1)\n",
        "  c2=np.sum(y,1)\n",
        "  c11=np.matmul(y,X_sample)\n",
        "  c1=c11.reshape(c11.shape[0]*c11.shape[1])\n",
        "  c1.shape\n",
        "  return c1,c2"
      ],
      "metadata": {
        "id": "7IinnJ0kE-OT"
      },
      "execution_count": 388,
      "outputs": []
    },
    {
      "cell_type": "code",
      "source": [
        "c1,c2=Phase_1_function_comp_quotient(X_sample,q_pol)\n",
        "c2"
      ],
      "metadata": {
        "colab": {
          "base_uri": "https://localhost:8080/"
        },
        "id": "dU-iIG6KHLpc",
        "outputId": "48898047-6324-4908-cfb7-09c51703f1f8"
      },
      "execution_count": 389,
      "outputs": [
        {
          "output_type": "execute_result",
          "data": {
            "text/plain": [
              "array([135.,   2., 165.,  69., 149.])"
            ]
          },
          "metadata": {},
          "execution_count": 389
        }
      ]
    },
    {
      "cell_type": "code",
      "source": [
        "x_a = cp.Variable(d*m_q)\n",
        "x_b = cp.Variable(m_q)\n",
        "\n",
        "Iterations=25\n",
        "progress_mat=np.zeros(Iterations+1)\n",
        "progress_mat[0]=np.sum(f_x_i)-np.sum([tropical_sum_pol_function(X_sample[i],q_pol) for i in range(X_sample.shape[0])])\n",
        "# Main Iteration\n",
        "for cnt in range(Iterations):\n",
        "  #print(cnt+1)\n",
        "  q_pol = (a_hat,b_hat)\n",
        "  c1,c_2=Phase_1_function_comp_quotient(X_sample,q_pol)\n",
        "  \n",
        "  prob = cp.Problem(cp.Maximize(c1@x_a+c2@x_b),\n",
        "                  [ A_inv_mat@x_a >=np.zeros(m_q*d),\n",
        "                     A_inverse_hor_conc@x_a<=np.ones(d),\n",
        "                   B_transp_A_inverse_mat@x_a>=x_b ])\n",
        "  prob.solve(warm_start=True)\n",
        "  for i in range(a_hat.shape[0]):\n",
        "    a_hat[i]=a_hat[i]*0.1+0.9*x_a.value[d*i:d*(i+1)] \n",
        "    b_hat[i]=b_hat[i]*0.1+0.9*x_b.value[i]\n",
        "  progress_mat[cnt+1]=np.sum(f_x_i)-np.sum([tropical_sum_pol_function(X_sample[i],q_pol) for i in range(X_sample.shape[0])])"
      ],
      "metadata": {
        "id": "5ZdCJ5ruFISC"
      },
      "execution_count": 390,
      "outputs": []
    },
    {
      "cell_type": "code",
      "source": [
        "progress_mat"
      ],
      "metadata": {
        "colab": {
          "base_uri": "https://localhost:8080/"
        },
        "id": "psWlvLKELxFM",
        "outputId": "eee80f61-8c8c-4709-d649-adc1881ca794"
      },
      "execution_count": 391,
      "outputs": [
        {
          "output_type": "execute_result",
          "data": {
            "text/plain": [
              "array([1315.36252189,  895.14756368,  669.86438366,  556.3074511 ,\n",
              "        523.10871651,  507.29349818,  505.04573844,  504.81711155,\n",
              "        504.7938478 ,  504.79152143,  504.79128879,  504.79126553,\n",
              "        504.7912632 ,  504.79126297,  504.79126294,  504.79126294,\n",
              "        504.79126294,  504.79126294,  504.79126294,  504.79126294,\n",
              "        504.79126294,  504.79126294,  504.79126294,  504.79126294,\n",
              "        504.79126294,  504.79126294])"
            ]
          },
          "metadata": {},
          "execution_count": 391
        }
      ]
    },
    {
      "cell_type": "code",
      "source": [
        "progress_mat1=progress_mat\n",
        "a_hat_1=a_hat\n",
        "b_hat_1=b_hat"
      ],
      "metadata": {
        "id": "V86peOQXKT1q"
      },
      "execution_count": 392,
      "outputs": []
    },
    {
      "cell_type": "code",
      "source": [
        ""
      ],
      "metadata": {
        "id": "J33vo844Gj25"
      },
      "execution_count": 392,
      "outputs": []
    },
    {
      "cell_type": "code",
      "source": [
        ""
      ],
      "metadata": {
        "id": "1_gXIlFCcXca"
      },
      "execution_count": 392,
      "outputs": []
    },
    {
      "cell_type": "markdown",
      "source": [
        "# Tropical Division 2"
      ],
      "metadata": {
        "id": "Wpv9-Oh7tOxh"
      }
    },
    {
      "cell_type": "code",
      "source": [
        "# Martix Definitions\n",
        "\n",
        "A=a2_red_vec\n",
        "d=A.shape[1]\n",
        "m_p=A.shape[0]\n",
        "p_pol=(A.T,B)\n",
        "\n",
        "\n",
        "B=bp_2_red\n",
        "A_inverse = np.linalg.inv(A)\n",
        "B_transp_A_inverse = np.matmul(B.T,A_inverse)\n",
        "B_transp_A_inverse_mat=B_transp_A_inverse \n",
        "A_inverse_hor_conc=A_inverse\n",
        "\n",
        "\n",
        "\n",
        "a_hat, b_hat=np.array(np.random.randn(m_q,d)), np.array(np.random.randn(m_q))\n",
        "q_pol=(a_hat, b_hat)\n",
        "X_sample=X_sample2[0:200]\n",
        "N_sample=X_sample2.shape[0]\n",
        "\n",
        "A_inv_mat = A_inverse\n",
        "\n",
        "for i in range(m_q-1):\n",
        "  A_inv_mat=block_diag(A_inv_mat,A_inverse) \n",
        "  B_transp_A_inverse_mat=block_diag(B_transp_A_inverse_mat,B_transp_A_inverse)\n",
        "  A_inverse_hor_conc=np.concatenate((A_inverse_hor_conc,A_inverse),axis=1)\n"
      ],
      "metadata": {
        "id": "NXn-YWqF1VOw"
      },
      "execution_count": 393,
      "outputs": []
    },
    {
      "cell_type": "code",
      "source": [
        "f_x_i=np.zeros(np.shape(X_sample)[0])\n",
        "for i in range(np.shape(X_sample)[0]):\n",
        "  f_x_i[i]=tropical_sum_pol_function(X_sample[i],p_pol)\n"
      ],
      "metadata": {
        "id": "eA8nKMHmtOxi"
      },
      "execution_count": 394,
      "outputs": []
    },
    {
      "cell_type": "code",
      "source": [
        "x_a = cp.Variable(d*m_q)\n",
        "x_b = cp.Variable(m_q)\n",
        "\n",
        "Iterations=25\n",
        "progress_mat=np.zeros(Iterations+1)\n",
        "progress_mat[0]=np.sum(f_x_i)-np.sum([tropical_sum_pol_function(X_sample[i],q_pol) for i in range(X_sample.shape[0])])\n",
        "# Main Iteration\n",
        "for cnt in range(Iterations):\n",
        "  #print(cnt+1)\n",
        "  q_pol = (a_hat,b_hat)\n",
        "  c1,c_2=Phase_1_function_comp_quotient(X_sample,q_pol)\n",
        "  \n",
        "  prob = cp.Problem(cp.Maximize(c1@x_a+c2@x_b),\n",
        "                  [ A_inv_mat@x_a >=np.zeros(m_q*d),\n",
        "                     A_inverse_hor_conc@x_a<=np.ones(d),\n",
        "                   B_transp_A_inverse_mat@x_a>=x_b ])\n",
        "  prob.solve(warm_start=True)\n",
        "  for i in range(a_hat.shape[0]):\n",
        "    a_hat[i]=a_hat[i]*0.1+0.9*x_a.value[d*i:d*(i+1)] \n",
        "    b_hat[i]=b_hat[i]*0.1+0.9*x_b.value[i]\n",
        "  progress_mat[cnt+1]=np.sum(f_x_i)-np.sum([tropical_sum_pol_function(X_sample[i],q_pol) for i in range(X_sample.shape[0])])"
      ],
      "metadata": {
        "id": "dXfMjIBytOxj"
      },
      "execution_count": 395,
      "outputs": []
    },
    {
      "cell_type": "code",
      "source": [
        "progress_mat2=progress_mat\n",
        "a_hat_2=a_hat\n",
        "b_hat_2=b_hat"
      ],
      "metadata": {
        "id": "PEMlSfa-tOxk"
      },
      "execution_count": 396,
      "outputs": []
    },
    {
      "cell_type": "markdown",
      "source": [
        "# Check1"
      ],
      "metadata": {
        "id": "4m4N8-qkLLqh"
      }
    },
    {
      "cell_type": "code",
      "source": [
        "err=0\n",
        "\n",
        "for i in range(X_sample.shape[0]):\n",
        "  p1_val = np.sum( np.maximum(np.matmul(a_hat_1,X_sample1[i]) +b_hat_1,np.zeros(a_hat_1.shape[0])))\n",
        "  p2_val = np.sum( np.maximum(np.matmul(a_hat_2,X_sample2[i]) +b_hat_2,np.zeros(a_hat_2.shape[0])))\n",
        "  p_val =p1_val-p2_val+b2_\n",
        "  y=p_val\n",
        "  err_i=0\n",
        "  if y>0 and y_train_3_5[i]==0:#if y[3]>y[5] and y_test_3_5[i]==0:\n",
        "    err_i=1\n",
        "  if y<0 and y_train_3_5[i]==1:#if y[3]<y[5] and y_test_3_5[i]==1:\n",
        "    err_i=1\n",
        "  err=err+err_i\n",
        "err/X_sample.shape[0]\n"
      ],
      "metadata": {
        "colab": {
          "base_uri": "https://localhost:8080/"
        },
        "id": "7HQG79SELSry",
        "outputId": "83293ece-ad8d-4b76-e140-35f5d6a0cb13"
      },
      "execution_count": 397,
      "outputs": [
        {
          "output_type": "execute_result",
          "data": {
            "text/plain": [
              "0.03"
            ]
          },
          "metadata": {},
          "execution_count": 397
        }
      ]
    },
    {
      "cell_type": "code",
      "source": [
        "X_sample1 = np.matmul(x_train_3_5,Q1) \n",
        "X_sample2 = np.matmul(x_train_3_5,Q2) \n",
        "\n",
        "\n",
        "X_sample1_test = np.matmul(x_test_3_5,Q1) \n",
        "X_sample2_test = np.matmul(x_test_3_5,Q2) "
      ],
      "metadata": {
        "id": "JPa02QbgOD57"
      },
      "execution_count": 398,
      "outputs": []
    },
    {
      "cell_type": "code",
      "source": [
        "err=0\n",
        "\n",
        "for i in range(X_sample1_test.shape[0]):\n",
        "  p1_val = np.sum( np.maximum(np.matmul(a_hat_1,X_sample1_test[i]) +b_hat_1,np.zeros(a_hat_1.shape[0])))\n",
        "  p2_val = np.sum( np.maximum(np.matmul(a_hat_2,X_sample2_test[i]) +b_hat_2,np.zeros(a_hat_2.shape[0])))\n",
        "  p_val =p1_val-p2_val+b2_\n",
        "  y=p_val\n",
        "  err_i=0\n",
        "  if y>0 and y_test_3_5[i]==0:#if y[3]>y[5] and y_test_3_5[i]==0:\n",
        "    err_i=1\n",
        "  if y<0 and y_test_3_5[i]==1:#if y[3]<y[5] and y_test_3_5[i]==1:\n",
        "    err_i=1\n",
        "  err=err+err_i\n",
        "err/X_sample1_test.shape[0]"
      ],
      "metadata": {
        "colab": {
          "base_uri": "https://localhost:8080/"
        },
        "id": "y66_ZPMOsCsM",
        "outputId": "1ebdad83-c765-445b-b1f7-78bc93641488"
      },
      "execution_count": 399,
      "outputs": [
        {
          "output_type": "execute_result",
          "data": {
            "text/plain": [
              "0.01892744479495268"
            ]
          },
          "metadata": {},
          "execution_count": 399
        }
      ]
    },
    {
      "cell_type": "code",
      "source": [
        "m_q"
      ],
      "metadata": {
        "colab": {
          "base_uri": "https://localhost:8080/"
        },
        "id": "SKtEOtDQELkU",
        "outputId": "d54e9868-6036-4146-fdc3-0032f7160e26"
      },
      "execution_count": 400,
      "outputs": [
        {
          "output_type": "execute_result",
          "data": {
            "text/plain": [
              "5"
            ]
          },
          "metadata": {},
          "execution_count": 400
        }
      ]
    }
  ]
}