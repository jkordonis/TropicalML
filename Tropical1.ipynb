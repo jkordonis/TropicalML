{
  "cells": [
    {
      "cell_type": "code",
      "execution_count": 1,
      "metadata": {
        "id": "UZ7yRZHaa3-P"
      },
      "outputs": [],
      "source": [
        "import numpy as np\n",
        "import matplotlib.pyplot as plt\n",
        "import math\n",
        "from scipy.linalg import block_diag\n",
        "from scipy.optimize import linprog\n",
        "\n"
      ]
    },
    {
      "cell_type": "code",
      "execution_count": 2,
      "metadata": {
        "id": "yyYfrL7TbUfc"
      },
      "outputs": [],
      "source": [
        "def tropical_pol_function(x,pol):\n",
        "  a=pol[0]\n",
        "  b=pol[1]\n",
        "  s= -math.inf\n",
        "  for i in range(np.shape(a)[0]):\n",
        "    if s<np.inner(a[i],x)+b[i]:\n",
        "      s=np.inner(a[i],x)+b[i]\n",
        "  return(s)\n"
      ]
    },
    {
      "cell_type": "code",
      "execution_count": 3,
      "metadata": {
        "id": "xoL2eR2sejcJ"
      },
      "outputs": [],
      "source": [
        "d=2 #dimension\n",
        "\n",
        "# Defining the polynomials\n",
        "a, b=np.array([[0,0],[3,3],[6,0]]), np.array([0,0,0])\n",
        "a_til, b_til=np.array([[1,0],[1,1],[2,1]]), np.array([0,0,0])\n",
        "#a_hat, b_hat=np.array([[1,2],[-1,1]]),np.array( [2,3])\n",
        "a_hat, b_hat=np.random.normal(0,1,6).reshape(3,2),np.random.normal(0.0, 1.0,3)*0.03\n",
        "\n",
        "p_pol=(a,b)\n",
        "d_pol=(a_til,b_til)\n",
        "q_pol=(a_hat,b_hat)\n",
        "\n",
        "# Samples X_sample\n",
        "N=200\n",
        " \n",
        "X_sample = np.random.multivariate_normal(np.zeros(d),np.identity(d),N)\n",
        "\n",
        "\n",
        "#X_sample=np.array([[1, 2 ],[3, 4],[3, -4],[-3, 4]])\n",
        "#print(X_sample)\n"
      ]
    },
    {
      "cell_type": "code",
      "execution_count": 4,
      "metadata": {
        "id": "QOaxGml8fMNI"
      },
      "outputs": [],
      "source": [
        "# Phase 1\n",
        "def Phase_1_function(X_sample,q_pol):\n",
        "  a_hat,b_hat=q_pol\n",
        "  # Initialize sets I_i\n",
        "  I_i = np.zeros(np.shape(X_sample)[0])\n",
        "  for i in range(np.shape(X_sample)[0]):\n",
        "    q_pol_values = np.matmul( a_hat,X_sample[i])+b_hat      \n",
        "    I_i[i]=np.argmax(q_pol_values )\n",
        "  return I_i"
      ]
    },
    {
      "cell_type": "code",
      "execution_count": 5,
      "metadata": {
        "id": "jwN82aNLmyYL"
      },
      "outputs": [],
      "source": [
        "def function_f_computation(X_sample,p_pol,d_pol):\n",
        "  f_x_i=np.zeros(np.shape(X_sample)[0])\n",
        "  for i in range(np.shape(X_sample)[0]):\n",
        "    f_x_i[i]=tropical_pol_function(X_sample[i],p_pol)-tropical_pol_function(X_sample[i],d_pol)\n",
        "  return f_x_i"
      ]
    },
    {
      "cell_type": "code",
      "execution_count": 6,
      "metadata": {
        "id": "r-W9mhhpteYM"
      },
      "outputs": [],
      "source": [
        "def Phase_2_linear_Programming_Prep_s_N(X_sample,I_i,f_x_i,q_pol):\n",
        "  a_hat, b_hat=q_pol\n",
        "  s=np.zeros((np.shape(a_hat)[0],np.shape(X_sample)[1]))\n",
        "  N=np.zeros((np.shape(a_hat)[0]))\n",
        "  for i in range(np.shape(a_hat)[0]):\n",
        "    for j in range(np.shape(X_sample)[0]):\n",
        "      if I_i[j]==i:\n",
        "        s[i]=s[i]+X_sample[j]\n",
        "        N[i]=N[i]+1\n",
        "  return (s, N)"
      ]
    },
    {
      "cell_type": "code",
      "source": [
        "f_x_i=np.zeros(X_sample.shape[0])\n",
        "for i in range(X_sample.shape[0]):\n",
        "  f_x_i[i]=tropical_pol_function(X_sample[i],p_pol)-tropical_pol_function(X_sample[i],d_pol)"
      ],
      "metadata": {
        "id": "o9BcmPVFOgXD"
      },
      "execution_count": 7,
      "outputs": []
    },
    {
      "cell_type": "code",
      "execution_count": 8,
      "metadata": {
        "id": "qSoyOeHOBIc7"
      },
      "outputs": [],
      "source": [
        "# Preparing Ain, bin\n",
        "A1=np.concatenate((X_sample, np.ones((np.shape(X_sample)[0],1))), axis=1)\n",
        "A2= np.zeros((np.shape(X_sample)[0],np.shape(a)[0]*np.shape(a_til)[0]))\n",
        "A3=np.zeros((np.shape(a)[0]*np.shape(a_til)[0],np.shape(X_sample)[1]+1))\n",
        "A4=-np.identity(np.shape(a)[0]*np.shape(a_til)[0])\n",
        "A12=np.concatenate((A1,A2),axis=1)\n",
        "A34=np.concatenate((A3,A4),axis=1)\n",
        "Ain=np.concatenate((A12,A34),axis=0)\n",
        "\n",
        "bin=np.concatenate((f_x_i,np.zeros((np.shape(a)[0]*np.shape(a_til)[0]) )))\n",
        "#print(Ain)\n",
        "#print(bin)"
      ]
    },
    {
      "cell_type": "code",
      "execution_count": 9,
      "metadata": {
        "id": "7kG10XVMe56u"
      },
      "outputs": [],
      "source": [
        "A_right=a.T\n",
        "Iden_d = np.identity(d)\n",
        "\n",
        "A_left =-np.concatenate( (Iden_d, np.array([np.zeros(d)]).T) ,axis=1 )\n",
        "left_mat = A_left \n",
        "\n",
        "A_down_right = np.ones(a.shape[0])\n",
        "beq1=a_til[0]\n",
        "\n",
        "\n",
        "for i in range(a_til.shape[0]-1):\n",
        "  A_right=block_diag(A_right,a.T)\n",
        "  A_left =np.concatenate((A_left,left_mat),axis=0)\n",
        "  A_down_right = block_diag(A_down_right,np.ones(a.shape[0]))\n",
        "  \n",
        "  beq1=np.concatenate((beq1,a_til[i+1]),axis=0)\n",
        "   \n",
        "\n",
        "A_down_left=np.zeros((a_til.shape[0], a.shape[1]+1))\n",
        "\n",
        "A_up=np.concatenate((A_left,A_right),axis=1)\n",
        "A_down=np.concatenate((A_down_left,A_down_right),axis=1)\n",
        "Aeq =np.concatenate((A_up,A_down),axis=0)\n",
        "beq =np.concatenate((beq1,np.ones(a_til.shape[0])),axis=0)\n",
        "\n",
        "\n",
        "#print('Aeq=',Aeq), print('beq=',beq), print('Ain=',Ain),print('bin=',bin),print('X_sample=',X_sample),print('a_hat=',a_hat),print('a=',a),print('a_til=',a_til)\n",
        "\n",
        "\n"
      ]
    },
    {
      "cell_type": "code",
      "source": [
        "#from numpy.lib.index_tricks import c_\n",
        "I_i=Phase_1_function(X_sample,q_pol)\n",
        "s,N=Phase_2_linear_Programming_Prep_s_N(X_sample,I_i,f_x_i,q_pol)\n",
        "\n",
        "i=0\n",
        "c_cost=np.concatenate((s[i],[N[i]],np.zeros((np.shape(a)[0]*np.shape(a_til)[0]) )))\n",
        "print(c_cost)\n",
        "\n",
        "optimize=linprog(c=c_cost, A_ub=Ain, b_ub=bin, A_eq=Aeq, b_eq=beq, bounds=None, method='interior-point', callback=None, options=None, x0=None)\n",
        "ab_vec=optimize\n",
        "print(ab_vec.success)\n"
      ],
      "metadata": {
        "id": "KqrcId3BTNIh"
      },
      "execution_count": null,
      "outputs": []
    },
    {
      "cell_type": "code",
      "source": [
        "for cnt in range(4):\n",
        "  q_pol = (a_hat,b_hat)\n",
        "  I_i=Phase_1_function(X_sample,q_pol)\n",
        "  s,N=Phase_2_linear_Programming_Prep_s_N(X_sample,I_i,f_x_i,q_pol)\n",
        "  a_hat_new=np.zeros(a_hat.shape)\n",
        "  b_hat_new=np.zeros(b_hat.shape)\n",
        "  for i in range(a_til.shape[0]):\n",
        "    c_cost=-np.concatenate((s[i],[N[i]],np.zeros((np.shape(a)[0]*np.shape(a_til)[0]) )))\n",
        "    optimize=linprog(c=c_cost, A_ub=Ain, b_ub=bin, A_eq=Aeq, b_eq=beq, bounds=None, method='simplex', callback=None, options=None, x0=None)#interior-point\n",
        "    ab_vec_struct=optimize\n",
        "    ab_vec=ab_vec_struct.x\n",
        "    a_hat_new[i]=ab_vec[0:a_hat.shape[1]]\n",
        "    b_hat_new[i]=ab_vec[a_hat.shape[1]:a_til.shape[1]+1]\n",
        "  a_hat=a_hat_new\n",
        "  b_hat=b_hat_new\n",
        "  \n",
        "  \n",
        " "
      ],
      "metadata": {
        "id": "l9QKY_xeYww-"
      },
      "execution_count": 14,
      "outputs": []
    },
    {
      "cell_type": "code",
      "source": [
        "print('a_hat=',a_hat)\n",
        "print('b_hat=',b_hat)\n",
        "#print(I_i)"
      ],
      "metadata": {
        "id": "uk1u4tV0ZPY_"
      },
      "execution_count": null,
      "outputs": []
    }
  ],
  "metadata": {
    "colab": {
      "collapsed_sections": [],
      "name": "Tropical1.ipynb",
      "provenance": []
    },
    "kernelspec": {
      "display_name": "Python 3",
      "name": "python3"
    },
    "language_info": {
      "name": "python"
    }
  },
  "nbformat": 4,
  "nbformat_minor": 0
}