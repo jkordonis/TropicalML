{
  "nbformat": 4,
  "nbformat_minor": 0,
  "metadata": {
    "colab": {
      "name": "MNISTandTropDivision.ipynb",
      "provenance": [],
      "collapsed_sections": [
        "CdaTuL9s-6DV",
        "qh8rGjs5DmaM"
      ],
      "toc_visible": true,
      "authorship_tag": "ABX9TyMBCBaZphQnT83PdK7vDzL+",
      "include_colab_link": true
    },
    "kernelspec": {
      "name": "python3",
      "display_name": "Python 3"
    },
    "language_info": {
      "name": "python"
    }
  },
  "cells": [
    {
      "cell_type": "markdown",
      "metadata": {
        "id": "view-in-github",
        "colab_type": "text"
      },
      "source": [
        "<a href=\"https://colab.research.google.com/github/jkordonis/TropicalML/blob/main/MNISTandTropDivision.ipynb\" target=\"_parent\"><img src=\"https://colab.research.google.com/assets/colab-badge.svg\" alt=\"Open In Colab\"/></a>"
      ]
    },
    {
      "cell_type": "code",
      "execution_count": 1,
      "metadata": {
        "id": "dYz2E2gDiHlR"
      },
      "outputs": [],
      "source": [
        "import numpy as np\n",
        "from tensorflow import keras\n",
        "from tensorflow.keras import layers\n",
        "import matplotlib.pyplot as plt\n",
        "import math\n",
        "from scipy.linalg import block_diag\n",
        "import os\n",
        "import io\n",
        "import cvxpy as cp\n"
      ]
    },
    {
      "cell_type": "markdown",
      "source": [
        "\n",
        "\n",
        "```\n",
        "# This is formatted as code\n",
        "```\n",
        "\n",
        "# MNIST Train from Keras"
      ],
      "metadata": {
        "id": "-HCVVuxD-rKz"
      }
    },
    {
      "cell_type": "code",
      "source": [
        "num_classes = 10 # Initially 10 classes\n",
        "input_shape = (28, 28, 1)\n",
        "\n",
        "# the data, split between train and test sets\n",
        "(x_train, y_train), (x_test, y_test) = keras.datasets.mnist.load_data()\n",
        "\n",
        "# Scale images to the [0, 1] range\n",
        "x_train = x_train.astype(\"float32\") / 255\n",
        "x_test = x_test.astype(\"float32\") / 255\n",
        "# Make sure images have shape (28, 28, 1)\n",
        "x_train = np.expand_dims(x_train, -1)\n",
        "x_test = np.expand_dims(x_test, -1)\n",
        "print(\"x_train shape:\", x_train.shape)\n",
        "print(x_train.shape[0], \"train samples\")\n",
        "print(x_test.shape[0], \"test samples\")\n",
        "\n",
        "\n",
        "# convert class vectors to binary class matrices\n",
        "y_train = keras.utils.to_categorical(y_train, num_classes)\n",
        "y_test = keras.utils.to_categorical(y_test, num_classes)"
      ],
      "metadata": {
        "colab": {
          "base_uri": "https://localhost:8080/"
        },
        "id": "xSeoYpfb-pJs",
        "outputId": "0f54cfd0-d2de-4de7-c2cb-10dbf4cc085f"
      },
      "execution_count": 6,
      "outputs": [
        {
          "output_type": "stream",
          "name": "stdout",
          "text": [
            "x_train shape: (60000, 28, 28, 1)\n",
            "60000 train samples\n",
            "10000 test samples\n"
          ]
        }
      ]
    },
    {
      "cell_type": "code",
      "source": [
        "Ner=100\n",
        "model = keras.Sequential(\n",
        "    [\n",
        "        keras.Input(shape=input_shape),\n",
        "        layers.Flatten(),\n",
        "        layers.Dense(Ner, activation=\"relu\"),     \n",
        "        layers.Dense(10, activation=\"softmax\"),\n",
        "    ]\n",
        ")\n",
        "\n",
        "model.summary()"
      ],
      "metadata": {
        "colab": {
          "base_uri": "https://localhost:8080/"
        },
        "id": "inrQEk9T-kkd",
        "outputId": "149e68f6-3ea1-4fb4-8d4e-5336b3341ba1"
      },
      "execution_count": 7,
      "outputs": [
        {
          "output_type": "stream",
          "name": "stdout",
          "text": [
            "Model: \"sequential_1\"\n",
            "_________________________________________________________________\n",
            " Layer (type)                Output Shape              Param #   \n",
            "=================================================================\n",
            " flatten_1 (Flatten)         (None, 784)               0         \n",
            "                                                                 \n",
            " dense_2 (Dense)             (None, 100)               78500     \n",
            "                                                                 \n",
            " dense_3 (Dense)             (None, 10)                1010      \n",
            "                                                                 \n",
            "=================================================================\n",
            "Total params: 79,510\n",
            "Trainable params: 79,510\n",
            "Non-trainable params: 0\n",
            "_________________________________________________________________\n"
          ]
        }
      ]
    },
    {
      "cell_type": "code",
      "source": [
        "batch_size = 128\n",
        "epochs = 10\n",
        "\n",
        "model.compile(loss=\"categorical_crossentropy\", optimizer=\"adam\", metrics=[\"accuracy\"])\n",
        "\n",
        "model.fit(x_train, y_train, batch_size=batch_size, epochs=epochs, validation_split=0.1)"
      ],
      "metadata": {
        "colab": {
          "base_uri": "https://localhost:8080/"
        },
        "id": "UYzcq_D2-LlE",
        "outputId": "4b65e601-d107-4f00-ed9c-381b6c3c0cb1"
      },
      "execution_count": 8,
      "outputs": [
        {
          "output_type": "stream",
          "name": "stdout",
          "text": [
            "Epoch 1/10\n",
            "422/422 [==============================] - 2s 4ms/step - loss: 0.4094 - accuracy: 0.8888 - val_loss: 0.1914 - val_accuracy: 0.9505\n",
            "Epoch 2/10\n",
            "422/422 [==============================] - 2s 4ms/step - loss: 0.1966 - accuracy: 0.9449 - val_loss: 0.1392 - val_accuracy: 0.9618\n",
            "Epoch 3/10\n",
            "422/422 [==============================] - 2s 5ms/step - loss: 0.1433 - accuracy: 0.9591 - val_loss: 0.1143 - val_accuracy: 0.9680\n",
            "Epoch 4/10\n",
            "422/422 [==============================] - 2s 4ms/step - loss: 0.1137 - accuracy: 0.9680 - val_loss: 0.0998 - val_accuracy: 0.9702\n",
            "Epoch 5/10\n",
            "422/422 [==============================] - 2s 4ms/step - loss: 0.0929 - accuracy: 0.9736 - val_loss: 0.0926 - val_accuracy: 0.9722\n",
            "Epoch 6/10\n",
            "422/422 [==============================] - 2s 4ms/step - loss: 0.0775 - accuracy: 0.9782 - val_loss: 0.0887 - val_accuracy: 0.9738\n",
            "Epoch 7/10\n",
            "422/422 [==============================] - 2s 4ms/step - loss: 0.0663 - accuracy: 0.9813 - val_loss: 0.0860 - val_accuracy: 0.9747\n",
            "Epoch 8/10\n",
            "422/422 [==============================] - 2s 4ms/step - loss: 0.0569 - accuracy: 0.9838 - val_loss: 0.0781 - val_accuracy: 0.9762\n",
            "Epoch 9/10\n",
            "422/422 [==============================] - 2s 4ms/step - loss: 0.0498 - accuracy: 0.9853 - val_loss: 0.0807 - val_accuracy: 0.9763\n",
            "Epoch 10/10\n",
            "422/422 [==============================] - 2s 4ms/step - loss: 0.0430 - accuracy: 0.9880 - val_loss: 0.0789 - val_accuracy: 0.9778\n"
          ]
        },
        {
          "output_type": "execute_result",
          "data": {
            "text/plain": [
              "<keras.callbacks.History at 0x7f4676d3b910>"
            ]
          },
          "metadata": {},
          "execution_count": 8
        }
      ]
    },
    {
      "cell_type": "code",
      "source": [
        "W1=model.layers[1].weights[0].numpy()\n",
        "b1=model.layers[1].weights[1].numpy()\n",
        "W2=model.layers[2].weights[0].numpy()\n",
        "b2=model.layers[2].weights[1].numpy()"
      ],
      "metadata": {
        "id": "tLehubRx-OnD"
      },
      "execution_count": 9,
      "outputs": []
    },
    {
      "cell_type": "markdown",
      "source": [
        "\n",
        "\n",
        "```\n",
        "# This is formatted as code\n",
        "```\n",
        "\n",
        "# Reshaping Data for 3-5 distinction and Tropical Polynomials"
      ],
      "metadata": {
        "id": "CdaTuL9s-6DV"
      }
    },
    {
      "cell_type": "code",
      "source": [
        "x_test_vec =np.zeros([10000, 784])\n",
        "for i in range(10000):\n",
        "  b = np.reshape(x_test[i],(784))\n",
        "  x_test_vec[i]=b\n",
        "\n",
        "err=0\n",
        "y_pred=np.zeros((10000,10))\n",
        "for i in range(10000):\n",
        "  z =  np.matmul(W1.T,x_test_vec[i]) +b1\n",
        "  z=np.maximum(z, np.zeros(Ner))\n",
        "  y=np.matmul(W2.T,z)+b2\n",
        "  y_pred[i]=y\n",
        "  err_i=0\n",
        "  if np.inner(y_test[i],[0,0,0,1,0,1,0,0,0,0])==1:\n",
        "    if np.argmax(y)!=np.argmax(y_test[i]):\n",
        "      err_i=1\n",
        "  err=err+err_i\n",
        "err"
      ],
      "metadata": {
        "colab": {
          "base_uri": "https://localhost:8080/"
        },
        "id": "3p9kbTgX_JqU",
        "outputId": "11402e78-7217-4f49-c9cf-52b3f34873f5"
      },
      "execution_count": 10,
      "outputs": [
        {
          "output_type": "execute_result",
          "data": {
            "text/plain": [
              "73"
            ]
          },
          "metadata": {},
          "execution_count": 10
        }
      ]
    },
    {
      "cell_type": "code",
      "source": [
        "x_test_3_5=[]\n",
        "y_test_3_5=[]\n",
        "\n",
        "\n",
        "for i in range(10000):\n",
        "  if np.inner(y_test[i],[0,0,0,1,0,1,0,0,0,0])==1:\n",
        "    x_test_3_5.append(x_test_vec[i])\n",
        "    y_test_3_5.append(-1)\n",
        "    if np.inner(y_test[i],[0,0,0,1,0,0,0,0,0,0])==1:\n",
        "      y_test_3_5[-1]=1\n",
        "    if np.inner(y_test[i],[0,0,0,0,0,1,0,0,0,0])==1:\n",
        "      y_test_3_5[-1]=0\n",
        "\n",
        "x_test_3_5=np.array(x_test_3_5)\n",
        "y_test_3_5=np.array(y_test_3_5)\n",
        "\n",
        "\n",
        "x_train_3_5=[]\n",
        "y_train_3_5=[]\n",
        "x_train_vec =np.zeros([60000, 784])\n",
        "for i in range(60000):\n",
        "  b = np.reshape(x_train[i],(784))\n",
        "  x_train_vec[i]=b\n",
        "\n",
        "\n",
        "\n",
        "for i in range(60000):\n",
        "  if np.inner(y_train[i],[0,0,0,1,0,1,0,0,0,0])==1:\n",
        "    x_train_3_5.append(x_train_vec[i])\n",
        "    y_train_3_5.append(-1)\n",
        "    if np.inner(y_train[i],[0,0,0,1,0,0,0,0,0,0])==1:\n",
        "      y_train_3_5[-1]=1\n",
        "    if np.inner(y_train[i],[0,0,0,0,0,1,0,0,0,0])==1:\n",
        "      y_train_3_5[-1]=0\n",
        "\n",
        "x_train_3_5=np.array(x_train_3_5)\n",
        "y_train_3_5=np.array(y_train_3_5)\n"
      ],
      "metadata": {
        "id": "FW_qKoFt_SLe"
      },
      "execution_count": 11,
      "outputs": []
    },
    {
      "cell_type": "code",
      "source": [
        "# 3-5 IniOriginal  Error\n",
        "\n",
        "err=0\n",
        "for i in range(x_test_3_5.shape[0]):\n",
        "  z =  np.matmul(W1.T,x_test_3_5[i]) +b1\n",
        "  z=np.maximum(z, np.zeros(Ner))\n",
        "  y=np.matmul(W2.T,z)+b2\n",
        "  err_i=0\n",
        "  if y[3]>y[5] and y_test_3_5[i]==0:#if np.argmax(y)!=5 and y_test_3_5[i]==0:#\n",
        "    err_i=1\n",
        "  if y[3]<y[5] and y_test_3_5[i]==1:#if np.argmax(y)!=3 and y_test_3_5[i]==1:#\n",
        "    err_i=1\n",
        "  err=err+err_i\n",
        "err/x_test_3_5.shape[0]"
      ],
      "metadata": {
        "colab": {
          "base_uri": "https://localhost:8080/"
        },
        "id": "BZqsp1dD_SFU",
        "outputId": "728d7f3c-8a3e-434a-89b1-d9886787c5c6"
      },
      "execution_count": 12,
      "outputs": [
        {
          "output_type": "execute_result",
          "data": {
            "text/plain": [
              "0.012092534174553101"
            ]
          },
          "metadata": {},
          "execution_count": 12
        }
      ]
    },
    {
      "cell_type": "code",
      "source": [
        "# Dimension Reduction\n",
        "W2_=W2[:,3]-W2[:,5]\n",
        "b2_=b2[3]-b2[5]\n",
        "\n",
        "err=0\n",
        "for i in range(x_test_3_5.shape[0]):\n",
        "  z =  np.matmul(W1.T,x_test_3_5[i]) +b1\n",
        "  z=np.maximum(z, np.zeros(Ner))\n",
        "  y=np.matmul(W2_.T,z)+b2_\n",
        "  err_i=0\n",
        "  if y>0 and y_test_3_5[i]==0:#if y[3]>y[5] and y_test_3_5[i]==0:\n",
        "    err_i=1\n",
        "  if y<0 and y_test_3_5[i]==1:#if y[3]<y[5] and y_test_3_5[i]==1:\n",
        "    err_i=1\n",
        "  err=err+err_i\n",
        "err/x_test_3_5.shape[0]"
      ],
      "metadata": {
        "colab": {
          "base_uri": "https://localhost:8080/"
        },
        "id": "yl4ZLbzY_o5U",
        "outputId": "7e923f6a-ba0c-427a-f187-9eb233a906f1"
      },
      "execution_count": 13,
      "outputs": [
        {
          "output_type": "execute_result",
          "data": {
            "text/plain": [
              "0.012092534174553101"
            ]
          },
          "metadata": {},
          "execution_count": 13
        }
      ]
    },
    {
      "cell_type": "code",
      "source": [
        "W2_pl=np.maximum(W2_,np.zeros(W2_.shape))\n",
        "W2_min=np.maximum(-W2_,np.zeros(W2_.shape))\n",
        "ap_1 = np.zeros((W1.shape[1],W1.shape[0]))\n",
        "bp_1 = np.zeros(W1.shape[1])\n",
        "ap_2 = np.zeros((W1.shape[1],W1.shape[0]))\n",
        "bp_2 = np.zeros(W1.shape[1])\n",
        "\n",
        "\n",
        "for i in range(W1.shape[1]):\n",
        "  ap_1[i]=W2_pl[i]*W1.T[i]\n",
        "  bp_1[i]=W2_pl[i]*b1[i]\n",
        "  ap_2[i]=W2_min[i]*W1.T[i]\n",
        "  bp_2[i]=W2_min[i]*b1[i]"
      ],
      "metadata": {
        "id": "apqtDbu4ADAj"
      },
      "execution_count": 14,
      "outputs": []
    },
    {
      "cell_type": "code",
      "source": [
        "\n"
      ],
      "metadata": {
        "id": "hEJH27qVAYvd"
      },
      "execution_count": null,
      "outputs": []
    },
    {
      "cell_type": "markdown",
      "source": [
        "# QR Dimensionality Reduction \n",
        "\n",
        "```\n",
        "# This is formatted as code\n",
        "```\n",
        "\n"
      ],
      "metadata": {
        "id": "2RSeLI0i_1jD"
      }
    },
    {
      "cell_type": "code",
      "source": [
        "Q1,R1=np.linalg.qr(ap_1.T,mode='reduced')\n",
        "Q2,R2=np.linalg.qr(ap_2.T,mode='reduced')\n",
        " \n",
        "a1_vec=ap_1.T\n",
        "a1_red_vec = np.matmul(Q1.T,a1_vec)\n",
        "a2_vec=ap_2.T\n",
        "a2_red_vec = np.matmul(Q2.T,a2_vec)\n",
        "\n",
        "X_sample1 = np.matmul(x_train_3_5,Q1) \n",
        "X_sample2 = np.matmul(x_train_3_5,Q2) \n",
        "\n",
        "\n",
        "X_sample1_test = np.matmul(x_test_3_5,Q1) \n",
        "X_sample2_test = np.matmul(x_test_3_5,Q2) \n",
        "\n",
        "m_q=10\n",
        "\n"
      ],
      "metadata": {
        "id": "LLKaQWoY_5hi"
      },
      "execution_count": 15,
      "outputs": []
    },
    {
      "cell_type": "code",
      "source": [
        "err=0\n",
        "\n",
        "for i in range(X_sample1_test.shape[0]):\n",
        "  p1_val = np.sum( np.maximum(np.matmul(a1_red_vec.T,X_sample1_test[i]) +bp_1,np.zeros(ap_1.shape[0])))\n",
        "  p2_val =  np.sum(np.maximum(np.matmul(a2_red_vec.T,X_sample2_test[i]) +bp_2,np.zeros(ap_1.shape[0])))\n",
        "  p_val =p1_val-p2_val+b2_\n",
        "  y=p_val\n",
        "  err_i=0\n",
        "  if y>0 and y_test_3_5[i]==0:#if y[3]>y[5] and y_test_3_5[i]==0:\n",
        "    err_i=1\n",
        "  if y<0 and y_test_3_5[i]==1:#if y[3]<y[5] and y_test_3_5[i]==1:\n",
        "    err_i=1\n",
        "  err=err+err_i\n",
        "err/X_sample1_test.shape[0]\n",
        "\n"
      ],
      "metadata": {
        "colab": {
          "base_uri": "https://localhost:8080/"
        },
        "id": "B6ZX6fCSA37D",
        "outputId": "8246c77e-6041-408f-ad98-7ff2c359599a"
      },
      "execution_count": 16,
      "outputs": [
        {
          "output_type": "execute_result",
          "data": {
            "text/plain": [
              "0.012092534174553101"
            ]
          },
          "metadata": {},
          "execution_count": 16
        }
      ]
    },
    {
      "cell_type": "code",
      "source": [
        "err=0\n",
        "for i in range(X_sample1.shape[0]):\n",
        "  p1_val = np.sum( np.maximum(np.matmul(a1_red_vec.T,X_sample1[i]) +bp_1,np.zeros(ap_1.shape[0])))\n",
        "  p2_val =  np.sum(np.maximum(np.matmul(a2_red_vec.T,X_sample2[i]) +bp_2,np.zeros(ap_1.shape[0])))\n",
        "  p_val =p1_val-p2_val+b2_\n",
        "  y=p_val\n",
        "  err_i=0\n",
        "  if y>0 and y_train_3_5[i]==0:#if y[3]>y[5] and y_test_3_5[i]==0:\n",
        "    err_i=1\n",
        "  if y<0 and y_train_3_5[i]==1:#if y[3]<y[5] and y_test_3_5[i]==1:\n",
        "    err_i=1\n",
        "  err=err+err_i\n",
        "err/x_train_3_5.shape[0]#Training error(<Test error)"
      ],
      "metadata": {
        "colab": {
          "base_uri": "https://localhost:8080/"
        },
        "id": "XoMsapGsVX8B",
        "outputId": "f79b429f-fe42-4999-8cc7-aed0881df6e6"
      },
      "execution_count": 17,
      "outputs": [
        {
          "output_type": "execute_result",
          "data": {
            "text/plain": [
              "0.004241689750692521"
            ]
          },
          "metadata": {},
          "execution_count": 17
        }
      ]
    },
    {
      "cell_type": "markdown",
      "source": [
        "#  Tropical Division 1"
      ],
      "metadata": {
        "id": "qh8rGjs5DmaM"
      }
    },
    {
      "cell_type": "code",
      "source": [
        "a=a1_red_vec.T\n",
        "b=bp_1\n",
        " \n",
        "d=a.shape[1]\n",
        "m_p=a.shape[0]\n",
        "\n",
        "\n",
        "\n",
        "a_til, b_til=np.array([np.zeros(d)]), np.array([0])\n",
        "a_hat, b_hat=np.array(np.zeros((m_q,d))), np.array(np.zeros(m_q))\n",
        "m_d=a_til.shape[0]\n",
        "\n",
        "p_pol=(a,b)\n",
        "d_pol=(a_til,b_til)\n",
        "q_pol=(a_hat,b_hat)\n",
        "\n",
        "# Samples X_sample\n",
        "X_sample=X_sample1[1:200]\n",
        "N_sample=X_sample1.shape[0]\n",
        "\n",
        "\n",
        " \n"
      ],
      "metadata": {
        "id": "ZxUqyBfpD3Iz"
      },
      "execution_count": 35,
      "outputs": []
    },
    {
      "cell_type": "code",
      "source": [
        "def tropical_pol_function(x,pol):\n",
        "  a_=pol[0]\n",
        "  b_=pol[1]\n",
        "  s= -math.inf\n",
        "  for i in range(np.shape(a_)[0]):\n",
        "    if s<np.inner(a_[i],x)+b_[i]:\n",
        "      s=np.inner(a_[i],x)+b_[i]\n",
        "  return(s)\n",
        "def tropical_sum_pol_function(x,pol):\n",
        "  a_=pol[0]\n",
        "  b_=pol[1]\n",
        "  s= 0\n",
        "  for i in range(np.shape(a_)[0]):\n",
        "      s=s+max(np.inner(a_[i],x)+b_[i],0)\n",
        "  return(s)"
      ],
      "metadata": {
        "id": "1jShb1h4EWxy"
      },
      "execution_count": 36,
      "outputs": []
    },
    {
      "cell_type": "code",
      "source": [
        "f_x_i=np.zeros(np.shape(X_sample)[0])\n",
        "for i in range(np.shape(X_sample)[0]):\n",
        "  f_x_i[i]=tropical_sum_pol_function(X_sample[i],p_pol)-tropical_pol_function(X_sample[i],d_pol)"
      ],
      "metadata": {
        "id": "Ek342ypDEzt6"
      },
      "execution_count": 37,
      "outputs": []
    },
    {
      "cell_type": "code",
      "source": [
        "# Phase 1\n",
        "def Phase_1_function(X_sample,q_pol):\n",
        "  a_hat,b_hat=q_pol\n",
        "  # Initialize sets I_i\n",
        "  I_i = np.zeros(np.shape(X_sample)[0])\n",
        "  for i in range(np.shape(X_sample)[0]):\n",
        "    q_pol_values = np.matmul( a_hat,X_sample[i])+b_hat      \n",
        "    I_i[i]=np.argmax(q_pol_values )\n",
        "  return I_i"
      ],
      "metadata": {
        "id": "7IinnJ0kE-OT"
      },
      "execution_count": 38,
      "outputs": []
    },
    {
      "cell_type": "code",
      "source": [
        "def Phase_2_linear_Programming_Prep_s_N(X_sample,I_i,f_x_i,q_pol):\n",
        "  a_hat, b_hat=q_pol\n",
        "  s=np.zeros((np.shape(a_hat)[0],np.shape(X_sample)[1]))\n",
        "  N=np.zeros((np.shape(a_hat)[0]))\n",
        "  for i in range(np.shape(a_hat)[0]):\n",
        "    for j in range(np.shape(X_sample)[0]):\n",
        "      if I_i[j]==i:\n",
        "        s[i]=s[i]+X_sample[j]\n",
        "        N[i]=N[i]+1\n",
        "  return (s, N)"
      ],
      "metadata": {
        "id": "PQSKBE7PFEij"
      },
      "execution_count": 39,
      "outputs": []
    },
    {
      "cell_type": "code",
      "source": [
        "# Formating Matrices\n",
        "I_d=np.identity(d)\n",
        "A_diagonal=a.T\n",
        "Iden_vert=I_d\n",
        "a_til_vect=a_til[0]\n",
        "for i in range(m_d-1):\n",
        "  Iden_vert=np.concatenate((Iden_vert, I_d), axis=0)\n",
        "  a_til_vect=np.concatenate((a_til_vect, a_til[i+1]), axis=0)\n",
        "for i in range(m_d-1):\n",
        "  A_diagonal=block_diag(A_diagonal,a.T)\n",
        "\n",
        "\n",
        "x_a = cp.Variable(d)\n",
        "x_b = cp.Variable(1)\n",
        "l = cp.Variable(m_d*m_p)\n",
        "\n",
        "l_dim=m_p*m_d\n",
        "Iterations=15\n",
        "progress_mat=np.zeros(Iterations+1)\n",
        "progress_mat[0]=np.sum(f_x_i)-np.sum([tropical_pol_function(X_sample[i],q_pol) for i in range(X_sample.shape[0])])\n",
        "# Main Iteration\n",
        "for cnt in range(Iterations):\n",
        "  print(cnt+1)\n",
        "  q_pol = (a_hat,b_hat)\n",
        "  I_i=Phase_1_function(X_sample,q_pol)\n",
        "  s,N=Phase_2_linear_Programming_Prep_s_N(X_sample,I_i,f_x_i,q_pol)\n",
        "  for i in range(a_hat.shape[0]):\n",
        "    s_i=s[i]\n",
        "    N_i=N[i]\n",
        "    prob = cp.Problem(cp.Maximize(s_i.T@x_a+N_i*x_b),\n",
        "                    [X_sample@x_a+x_b<=f_x_i,\n",
        "                     Iden_vert@x_a+a_til_vect==A_diagonal@l,\n",
        "                     np.zeros(l_dim)<=l,\n",
        "                     np.ones(l_dim)>=l])\n",
        "    prob.solve(warm_start=True)\n",
        "    a_hat[i]=x_a.value\n",
        "    b_hat[i]=x_b.value\n",
        "    progress_mat[cnt+1]=np.sum(f_x_i)-np.sum([tropical_pol_function(X_sample[i],q_pol) for i in range(X_sample.shape[0])])"
      ],
      "metadata": {
        "colab": {
          "base_uri": "https://localhost:8080/"
        },
        "id": "5ZdCJ5ruFISC",
        "outputId": "cfdfa4fe-235e-4e01-953c-b547fd1162d3"
      },
      "execution_count": 40,
      "outputs": [
        {
          "output_type": "stream",
          "name": "stdout",
          "text": [
            "1\n",
            "2\n",
            "3\n",
            "4\n",
            "5\n",
            "6\n",
            "7\n",
            "8\n",
            "9\n",
            "10\n",
            "11\n",
            "12\n",
            "13\n",
            "14\n",
            "15\n"
          ]
        }
      ]
    },
    {
      "cell_type": "code",
      "source": [
        "progress_mat1=progress_mat\n",
        "a_hat_1=a_hat\n",
        "b_hat_1=b_hat"
      ],
      "metadata": {
        "id": "V86peOQXKT1q"
      },
      "execution_count": 41,
      "outputs": []
    },
    {
      "cell_type": "markdown",
      "source": [
        "# Tropical Division 2"
      ],
      "metadata": {
        "id": "Wpv9-Oh7tOxh"
      }
    },
    {
      "cell_type": "code",
      "source": [
        "a=a2_red_vec.T\n",
        "b=bp_2\n",
        " \n",
        "d=a.shape[1]\n",
        "m_p=a.shape[0]\n",
        "\n",
        "\n",
        "\n",
        "a_til, b_til=np.array([np.zeros(d)]), np.array([0])\n",
        "a_hat, b_hat=np.array(np.zeros((m_q,d))), np.array(np.zeros(m_q))\n",
        "\n",
        "p_pol=(a,b)\n",
        "d_pol=(a_til,b_til)\n",
        "q_pol=(a_hat,b_hat)\n",
        "\n",
        "# Samples X_sample\n",
        "X_sample=X_sample2[1:200]\n",
        "N_sample=X_sample2.shape[0]"
      ],
      "metadata": {
        "id": "NXn-YWqF1VOw"
      },
      "execution_count": 42,
      "outputs": []
    },
    {
      "cell_type": "code",
      "source": [
        "def tropical_pol_function(x,pol):\n",
        "  a_=pol[0]\n",
        "  b_=pol[1]\n",
        "  s= -math.inf\n",
        "  for i in range(np.shape(a_)[0]):\n",
        "    if s<np.inner(a_[i],x)+b_[i]:\n",
        "      s=np.inner(a_[i],x)+b_[i]\n",
        "  return(s)\n",
        "def tropical_sum_pol_function(x,pol):\n",
        "  a_=pol[0]\n",
        "  b_=pol[1]\n",
        "  s= 0\n",
        "  for i in range(np.shape(a_)[0]):\n",
        "      s=s+max(np.inner(a_[i],x)+b_[i],0)\n",
        "  return(s)"
      ],
      "metadata": {
        "id": "rfAkBxR4tOxi"
      },
      "execution_count": 43,
      "outputs": []
    },
    {
      "cell_type": "code",
      "source": [
        "f_x_i=np.zeros(np.shape(X_sample)[0])\n",
        "for i in range(np.shape(X_sample)[0]):\n",
        "  f_x_i[i]=tropical_sum_pol_function(X_sample[i],p_pol)-tropical_pol_function(X_sample[i],d_pol)"
      ],
      "metadata": {
        "id": "eA8nKMHmtOxi"
      },
      "execution_count": 44,
      "outputs": []
    },
    {
      "cell_type": "code",
      "source": [
        "# Phase 1\n",
        "def Phase_1_function(X_sample,q_pol):\n",
        "  a_hat,b_hat=q_pol\n",
        "  # Initialize sets I_i\n",
        "  I_i = np.zeros(np.shape(X_sample)[0])\n",
        "  for i in range(np.shape(X_sample)[0]):\n",
        "    q_pol_values = np.matmul( a_hat,X_sample[i])+b_hat      \n",
        "    I_i[i]=np.argmax(q_pol_values )\n",
        "  return I_i"
      ],
      "metadata": {
        "id": "OTGFgsBXtOxj"
      },
      "execution_count": 45,
      "outputs": []
    },
    {
      "cell_type": "code",
      "source": [
        "def Phase_2_linear_Programming_Prep_s_N(X_sample,I_i,f_x_i,q_pol):\n",
        "  a_hat, b_hat=q_pol\n",
        "  s=np.zeros((np.shape(a_hat)[0],np.shape(X_sample)[1]))\n",
        "  N=np.zeros((np.shape(a_hat)[0]))\n",
        "  for i in range(np.shape(a_hat)[0]):\n",
        "    for j in range(np.shape(X_sample)[0]):\n",
        "      if I_i[j]==i:\n",
        "        s[i]=s[i]+X_sample[j]\n",
        "        N[i]=N[i]+1\n",
        "  return (s, N)"
      ],
      "metadata": {
        "id": "GhBGyE3JtOxj"
      },
      "execution_count": 46,
      "outputs": []
    },
    {
      "cell_type": "code",
      "source": [
        "# Formating Matrices\n",
        "I_d=np.identity(d)\n",
        "A_diagonal=a.T\n",
        "Iden_vert=I_d\n",
        "a_til_vect=a_til[0]\n",
        "for i in range(m_d-1):\n",
        "  Iden_vert=np.concatenate((Iden_vert, I_d), axis=0)\n",
        "  a_til_vect=np.concatenate((a_til_vect, a_til[i+1]), axis=0)\n",
        "for i in range(m_d-1):\n",
        "  A_diagonal=block_diag(A_diagonal,a.T)\n",
        "\n",
        "\n",
        "x_a = cp.Variable(d)\n",
        "x_b = cp.Variable(1)\n",
        "l = cp.Variable(m_d*m_p)\n",
        "\n",
        "l_dim=m_p*m_d\n",
        "Iterations=15\n",
        "progress_mat=np.zeros(Iterations+1)\n",
        "progress_mat[0]=np.sum(f_x_i)-np.sum([tropical_pol_function(X_sample[i],q_pol) for i in range(X_sample.shape[0])])\n",
        "# Main Iteration\n",
        "for cnt in range(Iterations):\n",
        "  print(cnt+1)\n",
        "  q_pol = (a_hat,b_hat)\n",
        "  I_i=Phase_1_function(X_sample,q_pol)\n",
        "  s,N=Phase_2_linear_Programming_Prep_s_N(X_sample,I_i,f_x_i,q_pol)\n",
        "  for i in range(a_hat.shape[0]):\n",
        "    s_i=s[i]\n",
        "    N_i=N[i]\n",
        "    prob = cp.Problem(cp.Maximize(s_i.T@x_a+N_i*x_b),\n",
        "                    [X_sample@x_a+x_b<=f_x_i,\n",
        "                     Iden_vert@x_a+a_til_vect==A_diagonal@l,\n",
        "                     np.zeros(l_dim)<=l,\n",
        "                     np.ones(l_dim)>=l])\n",
        "    prob.solve(warm_start=True)\n",
        "    a_hat[i]=x_a.value\n",
        "    b_hat[i]=x_b.value\n",
        "    progress_mat[cnt+1]=np.sum(f_x_i)-np.sum([tropical_pol_function(X_sample[i],q_pol) for i in range(X_sample.shape[0])])"
      ],
      "metadata": {
        "colab": {
          "base_uri": "https://localhost:8080/"
        },
        "outputId": "5ed78e10-4fd0-49cd-b4fa-ab5025017f22",
        "id": "dXfMjIBytOxj"
      },
      "execution_count": 47,
      "outputs": [
        {
          "output_type": "stream",
          "name": "stdout",
          "text": [
            "1\n",
            "2\n",
            "3\n",
            "4\n",
            "5\n",
            "6\n",
            "7\n",
            "8\n",
            "9\n",
            "10\n",
            "11\n",
            "12\n",
            "13\n",
            "14\n",
            "15\n"
          ]
        }
      ]
    },
    {
      "cell_type": "code",
      "source": [
        "progress_mat2=progress_mat\n",
        "a_hat_2=a_hat\n",
        "b_hat_2=b_hat"
      ],
      "metadata": {
        "id": "PEMlSfa-tOxk"
      },
      "execution_count": 48,
      "outputs": []
    },
    {
      "cell_type": "markdown",
      "source": [
        "# Check1"
      ],
      "metadata": {
        "id": "4m4N8-qkLLqh"
      }
    },
    {
      "cell_type": "code",
      "source": [
        "err=0\n",
        "\n",
        "for i in range(X_sample.shape[0]):\n",
        "  p1_val = np.max( np.maximum(np.matmul(a_hat_1,X_sample1[i]) +b_hat_1,np.zeros(a_hat.shape[0])))\n",
        "  p2_val =  np.sum(np.maximum(np.matmul(a2_red_vec.T,X_sample2[i]) +bp_2,np.zeros(ap_1.shape[0])))\n",
        "  p_val =p1_val-p2_val+b2_\n",
        "  y=p_val\n",
        "  err_i=0\n",
        "  if y>0 and y_train_3_5[i]==0:#if y[3]>y[5] and y_test_3_5[i]==0:\n",
        "    err_i=1\n",
        "  if y<0 and y_train_3_5[i]==1:#if y[3]<y[5] and y_test_3_5[i]==1:\n",
        "    err_i=1\n",
        "  err=err+err_i\n",
        "err/X_sample.shape[0]\n"
      ],
      "metadata": {
        "colab": {
          "base_uri": "https://localhost:8080/"
        },
        "id": "7HQG79SELSry",
        "outputId": "a7226d8c-401a-47fe-ee9d-7d07eebee0b8"
      },
      "execution_count": 49,
      "outputs": [
        {
          "output_type": "execute_result",
          "data": {
            "text/plain": [
              "0.010050251256281407"
            ]
          },
          "metadata": {},
          "execution_count": 49
        }
      ]
    },
    {
      "cell_type": "code",
      "source": [
        "X_sample1 = np.matmul(x_train_3_5,Q1) \n",
        "X_sample2 = np.matmul(x_train_3_5,Q2) \n",
        "\n",
        "\n",
        "X_sample1_test = np.matmul(x_test_3_5,Q1) \n",
        "X_sample2_test = np.matmul(x_test_3_5,Q2) "
      ],
      "metadata": {
        "id": "JPa02QbgOD57"
      },
      "execution_count": 50,
      "outputs": []
    },
    {
      "cell_type": "code",
      "source": [
        "err=0\n",
        "\n",
        "for i in range(X_sample1_test.shape[0]):\n",
        "  p1_val = np.max( np.maximum(np.matmul(a_hat_1,X_sample1_test[i]) +b_hat_1,np.zeros(a_hat.shape[0])))\n",
        "  p2_val = np.max( np.maximum(np.matmul(a_hat_2,X_sample2_test[i]) +b_hat_2,np.zeros(a_hat.shape[0])))\n",
        "  p_val =p1_val-p2_val+b2_\n",
        "  y=p_val\n",
        "  err_i=0\n",
        "  if y>0 and y_test_3_5[i]==0:#if y[3]>y[5] and y_test_3_5[i]==0:\n",
        "    err_i=1\n",
        "  if y<0 and y_test_3_5[i]==1:#if y[3]<y[5] and y_test_3_5[i]==1:\n",
        "    err_i=1\n",
        "  err=err+err_i\n",
        "err/X_sample1_test.shape[0]"
      ],
      "metadata": {
        "colab": {
          "base_uri": "https://localhost:8080/"
        },
        "id": "y66_ZPMOsCsM",
        "outputId": "ea7370f4-1d12-4ad1-bdf0-b289e1330ab5"
      },
      "execution_count": 51,
      "outputs": [
        {
          "output_type": "execute_result",
          "data": {
            "text/plain": [
              "0.02050473186119874"
            ]
          },
          "metadata": {},
          "execution_count": 51
        }
      ]
    },
    {
      "cell_type": "code",
      "source": [
        "err=0\n",
        "\n",
        "for i in range(200):\n",
        "  p1_val = np.max( np.maximum(np.matmul(a_hat_1,X_sample1[i]) +b_hat_1,np.zeros(a_hat.shape[0])))\n",
        "  p2_val = np.max( np.maximum(np.matmul(a_hat_2,X_sample2[i]) +b_hat_2,np.zeros(a_hat.shape[0])))\n",
        "  p_val =p1_val-p2_val+b2_\n",
        "  y=p_val\n",
        "  err_i=0\n",
        "  if y>0 and y_train_3_5[i]==0:#if y[3]>y[5] and y_test_3_5[i]==0:\n",
        "    err_i=1\n",
        "  if y<0 and y_train_3_5[i]==1:#if y[3]<y[5] and y_test_3_5[i]==1:\n",
        "    err_i=1\n",
        "  err=err+err_i\n",
        "err/200"
      ],
      "metadata": {
        "colab": {
          "base_uri": "https://localhost:8080/"
        },
        "id": "e154Cs_B3_vg",
        "outputId": "69344bd1-36b3-4066-ef01-f19f5cdbada1"
      },
      "execution_count": 52,
      "outputs": [
        {
          "output_type": "execute_result",
          "data": {
            "text/plain": [
              "0.015"
            ]
          },
          "metadata": {},
          "execution_count": 52
        }
      ]
    },
    {
      "cell_type": "code",
      "source": [
        "progress_mat1\n",
        "\n"
      ],
      "metadata": {
        "colab": {
          "base_uri": "https://localhost:8080/"
        },
        "id": "mWvjd5p6QbP6",
        "outputId": "afe9df2d-9a1c-4311-ad3a-ab5798500b48"
      },
      "execution_count": 53,
      "outputs": [
        {
          "output_type": "execute_result",
          "data": {
            "text/plain": [
              "array([3090.89797043,  563.84602294,  377.10820379,  342.9675346 ,\n",
              "        269.63432696,  184.36716044,  155.58979372,  139.86988304,\n",
              "        134.30141569,  132.74454235,  126.02932969,  113.72876774,\n",
              "        110.75357911,  110.24943957,  110.09974437,  110.09974406])"
            ]
          },
          "metadata": {},
          "execution_count": 53
        }
      ]
    }
  ]
}