{
  "nbformat": 4,
  "nbformat_minor": 0,
  "metadata": {
    "colab": {
      "provenance": [],
      "gpuType": "T4",
      "authorship_tag": "ABX9TyPiurF1Nt3dKYzIuPuvNs0t",
      "include_colab_link": true
    },
    "kernelspec": {
      "name": "python3",
      "display_name": "Python 3"
    },
    "language_info": {
      "name": "python"
    },
    "accelerator": "GPU"
  },
  "cells": [
    {
      "cell_type": "markdown",
      "metadata": {
        "id": "view-in-github",
        "colab_type": "text"
      },
      "source": [
        "<a href=\"https://colab.research.google.com/github/jkordonis/TropicalML/blob/main/CIFAR100_Train.ipynb\" target=\"_parent\"><img src=\"https://colab.research.google.com/assets/colab-badge.svg\" alt=\"Open In Colab\"/></a>"
      ]
    },
    {
      "cell_type": "code",
      "execution_count": null,
      "metadata": {
        "id": "TJV7-sM2GUdq"
      },
      "outputs": [],
      "source": [
        "import pandas as pd\n",
        "import os\n",
        "import torch\n",
        "import time\n",
        "import torchvision\n",
        "import torch.nn as nn\n",
        "\n",
        "import numpy as np\n",
        "import torch.nn.functional as F\n",
        "from torchvision.datasets.utils import download_url\n",
        "from torchvision.datasets import ImageFolder\n",
        "from torch.utils.data import DataLoader\n",
        "import torchvision.transforms as tt\n",
        "from torch.utils.data import Dataset\n",
        "from torch.utils.data import random_split\n",
        "from torchvision.utils import make_grid\n",
        "import torchvision.models as models\n",
        "import matplotlib.pyplot as plt\n",
        "from sklearn.metrics import *\n",
        "from google.colab import files\n"
      ]
    },
    {
      "cell_type": "code",
      "source": [
        "batch_size = 400\n",
        "epochs = 120\n",
        "max_lr = 0.001\n",
        "grad_clip = 0.01\n",
        "weight_decay =0.001\n",
        "opt_func = torch.optim.Adam\n"
      ],
      "metadata": {
        "id": "e4cRE1UHpz7k"
      },
      "execution_count": null,
      "outputs": []
    },
    {
      "cell_type": "code",
      "source": [
        "train_data = torchvision.datasets.CIFAR100('./', train=True, download=True)\n",
        "\n",
        "x = np.concatenate([np.asarray(train_data[i][0]) for i in range(len(train_data))])\n",
        "mean = np.mean(x, axis=(0, 1))/255\n",
        "std = np.std(x, axis=(0, 1))/255\n",
        "mean=mean.tolist()\n",
        "std=std.tolist()\n"
      ],
      "metadata": {
        "colab": {
          "base_uri": "https://localhost:8080/"
        },
        "id": "ipSKJVnOp4gb",
        "outputId": "19b6289c-ea82-49ef-91f2-3968097533cf"
      },
      "execution_count": null,
      "outputs": [
        {
          "output_type": "stream",
          "name": "stdout",
          "text": [
            "Downloading https://www.cs.toronto.edu/~kriz/cifar-100-python.tar.gz to ./cifar-100-python.tar.gz\n"
          ]
        },
        {
          "output_type": "stream",
          "name": "stderr",
          "text": [
            "100%|██████████| 169001437/169001437 [00:05<00:00, 29420747.80it/s]\n"
          ]
        },
        {
          "output_type": "stream",
          "name": "stdout",
          "text": [
            "Extracting ./cifar-100-python.tar.gz to ./\n"
          ]
        }
      ]
    },
    {
      "cell_type": "code",
      "source": [
        "transform_train = tt.Compose([tt.RandomCrop(32, padding=4,padding_mode='reflect'),\n",
        "                         tt.RandomHorizontalFlip(),\n",
        "                         tt.ToTensor(),\n",
        "                         tt.Normalize(mean,std,inplace=True)])\n",
        "transform_test = tt.Compose([tt.ToTensor(), tt.Normalize(mean,std)])"
      ],
      "metadata": {
        "id": "sXGRmZQFp_2S"
      },
      "execution_count": null,
      "outputs": []
    },
    {
      "cell_type": "code",
      "source": [
        "trainset = torchvision.datasets.CIFAR100(\"./\",  train=True, download=True, transform=transform_train)\n",
        "trainloader = torch.utils.data.DataLoader( trainset, batch_size, shuffle=True, num_workers=2,pin_memory=True)\n",
        "\n",
        "testset = torchvision.datasets.CIFAR100(\"./\",  train=False,  download=True,   transform=transform_test)\n",
        "testloader = torch.utils.data.DataLoader( testset, batch_size*2,pin_memory=True, num_workers=2)"
      ],
      "metadata": {
        "colab": {
          "base_uri": "https://localhost:8080/"
        },
        "id": "Q5fBsRFqqBrq",
        "outputId": "58253d21-b0c7-4c61-b7b5-513da510c68a"
      },
      "execution_count": null,
      "outputs": [
        {
          "output_type": "stream",
          "name": "stdout",
          "text": [
            "Files already downloaded and verified\n",
            "Files already downloaded and verified\n"
          ]
        }
      ]
    },
    {
      "cell_type": "code",
      "source": [
        "def get_default_device():\n",
        "    \"\"\"Pick GPU if available, else CPU\"\"\"\n",
        "    if torch.cuda.is_available():\n",
        "        return torch.device('cuda')\n",
        "    else:\n",
        "        return torch.device('cpu')\n",
        "\n",
        "def to_device(data, device):\n",
        "    \"\"\"Move tensor(s) to chosen device\"\"\"\n",
        "    if isinstance(data, (list,tuple)):\n",
        "        return [to_device(x, device) for x in data]\n",
        "    return data.to(device, non_blocking=True)\n",
        "\n",
        "class DeviceDataLoader():\n",
        "    \"\"\"Wrap a dataloader to move data to a device\"\"\"\n",
        "    def __init__(self, dl, device):\n",
        "        self.dl = dl\n",
        "        self.device = device\n",
        "\n",
        "    def __iter__(self):\n",
        "        \"\"\"Yield a batch of data after moving it to device\"\"\"\n",
        "        for b in self.dl:\n",
        "            yield to_device(b, self.device)\n",
        "\n",
        "    def __len__(self):\n",
        "        \"\"\"Number of batches\"\"\"\n",
        "        return len(self.dl)\n",
        "device = get_default_device()\n",
        "device"
      ],
      "metadata": {
        "colab": {
          "base_uri": "https://localhost:8080/"
        },
        "id": "HXegvwzHqKwa",
        "outputId": "b1c015d9-2809-45f1-e0bc-ef3d9877e477"
      },
      "execution_count": null,
      "outputs": [
        {
          "output_type": "execute_result",
          "data": {
            "text/plain": [
              "device(type='cuda')"
            ]
          },
          "metadata": {},
          "execution_count": 6
        }
      ]
    },
    {
      "cell_type": "code",
      "source": [
        "def accuracy(outputs, labels):\n",
        "    _, preds = torch.max(outputs, dim=1)\n",
        "    return torch.tensor(torch.sum(preds == labels).item() / len(preds))\n",
        "\n",
        "class ImageClassificationBase(nn.Module):\n",
        "    def training_step(self, batch):\n",
        "        images, labels = batch\n",
        "        out = self(images)                  # Generate predictions\n",
        "        loss = F.cross_entropy(out, labels) # Calculate loss\n",
        "        return loss\n",
        "\n",
        "    def validation_step(self, batch):\n",
        "        images, labels = batch\n",
        "        out = self(images)                    # Generate predictions\n",
        "        loss = F.cross_entropy(out, labels)   # Calculate loss\n",
        "        acc = accuracy(out, labels)           # Calculate accuracy\n",
        "        return {'val_loss': loss.detach(), 'val_acc': acc}\n",
        "\n",
        "    def validation_epoch_end(self, outputs):\n",
        "        batch_losses = [x['val_loss'] for x in outputs]\n",
        "        epoch_loss = torch.stack(batch_losses).mean()   # Combine losses\n",
        "        batch_accs = [x['val_acc'] for x in outputs]\n",
        "        epoch_acc = torch.stack(batch_accs).mean()      # Combine accuracies\n",
        "        return {'val_loss': epoch_loss.item(), 'val_acc': epoch_acc.item()}\n",
        "\n",
        "    def epoch_end(self, epoch, result):\n",
        "        print(\"Epoch [{}], last_lr: {:.5f}, train_loss: {:.4f}, val_loss: {:.4f}, val_acc: {:.4f}\".format(\n",
        "            epoch, result['lrs'][-1], result['train_loss'], result['val_loss'], result['val_acc']))\n",
        "\n",
        "def conv_block(in_channels, out_channels, pool=False):\n",
        "    layers = [nn.Conv2d(in_channels, out_channels, kernel_size=3, padding=1),\n",
        "              nn.BatchNorm2d(out_channels),\n",
        "              nn.ReLU(inplace=True)]\n",
        "    if pool: layers.append(nn.MaxPool2d(2))\n",
        "    return nn.Sequential(*layers)\n",
        "\n",
        "class ResNet9(ImageClassificationBase):\n",
        "    def __init__(self, in_channels, num_classes):\n",
        "        super().__init__()\n",
        "\n",
        "        self.conv1 = conv_block(in_channels, 64)\n",
        "        self.conv2 = conv_block(64, 128, pool=True)\n",
        "        self.res1 = nn.Sequential(conv_block(128, 128), conv_block(128, 128))\n",
        "\n",
        "        self.conv3 = conv_block(128, 256, pool=True)\n",
        "        self.conv4 = conv_block(256, 512, pool=True)\n",
        "        self.res2 = nn.Sequential(conv_block(512, 512), conv_block(512, 512))\n",
        "\n",
        "        self.classifier = nn.Sequential(nn.AdaptiveMaxPool2d((1,1)),\n",
        "                                        nn.Flatten(),\n",
        "                                        nn.Dropout(0.2),\n",
        "                                        nn.Linear(512, num_classes))\n",
        "\n",
        "\n",
        "    def forward(self, xb):\n",
        "        out = self.conv1(xb)\n",
        "        out = self.conv2(out)\n",
        "        out = self.res1(out) + out\n",
        "        out = self.conv3(out)\n",
        "        out = self.conv4(out)\n",
        "        out = self.res2(out) + out\n",
        "        out = self.classifier(out)\n",
        "        return out\n",
        "\n",
        "model = to_device(ResNet9(3, 100), device)\n",
        "#model"
      ],
      "metadata": {
        "id": "ssY5alpJqaEq"
      },
      "execution_count": null,
      "outputs": []
    },
    {
      "cell_type": "code",
      "source": [
        "@torch.no_grad()\n",
        "def evaluate(model, test_loader):\n",
        "    model.eval()\n",
        "    outputs = [model.validation_step(batch) for batch in test_loader]\n",
        "    return model.validation_epoch_end(outputs)\n",
        "\n",
        "def get_lr(optimizer):\n",
        "    for param_group in optimizer.param_groups:\n",
        "        return param_group['lr']\n",
        "\n",
        "def fit_one_cycle(epochs, max_lr, model, train_loader, test_loader,\n",
        "                  weight_decay=0, grad_clip=None, opt_func=torch.optim.SGD):\n",
        "    torch.cuda.empty_cache()\n",
        "    history = []\n",
        "\n",
        "    # Set up cutom optimizer with weight decay\n",
        "    optimizer = opt_func(model.parameters(), max_lr, weight_decay=weight_decay)\n",
        "    # Set up one-cycle learning rate scheduler\n",
        "    sched = torch.optim.lr_scheduler.OneCycleLR(optimizer, max_lr, epochs=epochs,\n",
        "                                                steps_per_epoch=len(train_loader))\n",
        "\n",
        "    for epoch in range(epochs):\n",
        "        # Training Phase\n",
        "        model.train()\n",
        "        train_losses = []\n",
        "        lrs = []\n",
        "        for batch in train_loader:\n",
        "\n",
        "            loss = model.training_step(batch)\n",
        "            train_losses.append(loss)\n",
        "            loss.backward()\n",
        "\n",
        "            # Gradient clipping\n",
        "            if grad_clip:\n",
        "                nn.utils.clip_grad_value_(model.parameters(), grad_clip)\n",
        "\n",
        "            optimizer.step()\n",
        "            optimizer.zero_grad()\n",
        "\n",
        "            # Record & update learning rate\n",
        "            lrs.append(get_lr(optimizer))\n",
        "            sched.step()\n",
        "\n",
        "        # Validation phase\n",
        "        result = evaluate(model, test_loader)\n",
        "        result['train_loss'] = torch.stack(train_losses).mean().item()\n",
        "        result['lrs'] = lrs\n",
        "        model.epoch_end(epoch, result)\n",
        "        history.append(result)\n",
        "    return history"
      ],
      "metadata": {
        "id": "_c0f1Whvqbkb"
      },
      "execution_count": null,
      "outputs": []
    },
    {
      "cell_type": "code",
      "source": [
        "history = [evaluate(model, DeviceDataLoader(testloader, device))] # Wrap testloader with DeviceDataLoader\n",
        "history\n"
      ],
      "metadata": {
        "colab": {
          "base_uri": "https://localhost:8080/"
        },
        "id": "oLKkJFaaqdZy",
        "outputId": "b45f1192-1ab3-40c6-bc31-fc99393b451c"
      },
      "execution_count": null,
      "outputs": [
        {
          "output_type": "execute_result",
          "data": {
            "text/plain": [
              "[{'val_loss': 4.607171535491943, 'val_acc': 0.009134615771472454}]"
            ]
          },
          "metadata": {},
          "execution_count": 9
        }
      ]
    },
    {
      "cell_type": "code",
      "source": [
        "current_time=time.time()\n",
        "history += fit_one_cycle( 30 , max_lr, model, DeviceDataLoader(trainloader, device),\n",
        "                             DeviceDataLoader(testloader, device),\n",
        "                             grad_clip=grad_clip,\n",
        "                             weight_decay=weight_decay,\n",
        "                             opt_func=opt_func)"
      ],
      "metadata": {
        "colab": {
          "base_uri": "https://localhost:8080/"
        },
        "id": "3zSSzIKGqfHA",
        "outputId": "b6a78c87-d2d7-4fea-c06b-d9d0eb46f803"
      },
      "execution_count": null,
      "outputs": [
        {
          "output_type": "stream",
          "name": "stdout",
          "text": [
            "Epoch [0], last_lr: 0.00007, train_loss: 4.3474, val_loss: 3.5456, val_acc: 0.1820\n",
            "Epoch [1], last_lr: 0.00015, train_loss: 3.6022, val_loss: 3.0771, val_acc: 0.2477\n",
            "Epoch [2], last_lr: 0.00028, train_loss: 3.1670, val_loss: 2.8308, val_acc: 0.2941\n",
            "Epoch [3], last_lr: 0.00044, train_loss: 2.8019, val_loss: 2.5010, val_acc: 0.3543\n",
            "Epoch [4], last_lr: 0.00060, train_loss: 2.5074, val_loss: 2.2886, val_acc: 0.3965\n",
            "Epoch [5], last_lr: 0.00076, train_loss: 2.2642, val_loss: 2.3031, val_acc: 0.3956\n",
            "Epoch [6], last_lr: 0.00089, train_loss: 2.0691, val_loss: 1.8871, val_acc: 0.4910\n",
            "Epoch [7], last_lr: 0.00097, train_loss: 1.8929, val_loss: 2.2018, val_acc: 0.4505\n",
            "Epoch [8], last_lr: 0.00100, train_loss: 1.7364, val_loss: 1.7278, val_acc: 0.5226\n",
            "Epoch [9], last_lr: 0.00099, train_loss: 1.6004, val_loss: 2.1840, val_acc: 0.4353\n",
            "Epoch [10], last_lr: 0.00098, train_loss: 1.4930, val_loss: 1.6589, val_acc: 0.5462\n",
            "Epoch [11], last_lr: 0.00095, train_loss: 1.3884, val_loss: 1.8880, val_acc: 0.4986\n",
            "Epoch [12], last_lr: 0.00091, train_loss: 1.3047, val_loss: 1.4867, val_acc: 0.5825\n",
            "Epoch [13], last_lr: 0.00087, train_loss: 1.2243, val_loss: 1.6028, val_acc: 0.5617\n",
            "Epoch [14], last_lr: 0.00081, train_loss: 1.1456, val_loss: 1.5083, val_acc: 0.5875\n",
            "Epoch [15], last_lr: 0.00075, train_loss: 1.0587, val_loss: 1.4213, val_acc: 0.6038\n",
            "Epoch [16], last_lr: 0.00068, train_loss: 0.9870, val_loss: 1.3207, val_acc: 0.6253\n",
            "Epoch [17], last_lr: 0.00061, train_loss: 0.9113, val_loss: 1.3177, val_acc: 0.6338\n",
            "Epoch [18], last_lr: 0.00054, train_loss: 0.8305, val_loss: 1.2646, val_acc: 0.6506\n",
            "Epoch [19], last_lr: 0.00046, train_loss: 0.7515, val_loss: 1.1910, val_acc: 0.6688\n",
            "Epoch [20], last_lr: 0.00039, train_loss: 0.6609, val_loss: 1.1658, val_acc: 0.6713\n",
            "Epoch [21], last_lr: 0.00032, train_loss: 0.5681, val_loss: 1.1114, val_acc: 0.6877\n",
            "Epoch [22], last_lr: 0.00025, train_loss: 0.4920, val_loss: 1.1112, val_acc: 0.6978\n",
            "Epoch [23], last_lr: 0.00019, train_loss: 0.4075, val_loss: 1.0233, val_acc: 0.7144\n",
            "Epoch [24], last_lr: 0.00013, train_loss: 0.3256, val_loss: 0.9950, val_acc: 0.7264\n",
            "Epoch [25], last_lr: 0.00009, train_loss: 0.2699, val_loss: 0.9499, val_acc: 0.7304\n",
            "Epoch [26], last_lr: 0.00005, train_loss: 0.2239, val_loss: 0.9268, val_acc: 0.7475\n",
            "Epoch [27], last_lr: 0.00002, train_loss: 0.1945, val_loss: 0.9118, val_acc: 0.7493\n",
            "Epoch [28], last_lr: 0.00001, train_loss: 0.1805, val_loss: 0.9079, val_acc: 0.7507\n",
            "Epoch [29], last_lr: 0.00000, train_loss: 0.1734, val_loss: 0.9056, val_acc: 0.7517\n"
          ]
        }
      ]
    },
    {
      "cell_type": "code",
      "source": [
        "from google.colab import drive\n",
        "drive.mount('/content/drive')"
      ],
      "metadata": {
        "colab": {
          "base_uri": "https://localhost:8080/"
        },
        "id": "YG1g-Xi8qj0o",
        "outputId": "3804417f-61f4-4671-9e7a-b29b57029235"
      },
      "execution_count": null,
      "outputs": [
        {
          "output_type": "stream",
          "name": "stdout",
          "text": [
            "Mounted at /content/drive\n"
          ]
        }
      ]
    },
    {
      "cell_type": "code",
      "source": [
        "model_path = '/content/drive/My Drive/ResNet9CIFAR100.pth'\n",
        "torch.save(model.state_dict(), model_path)"
      ],
      "metadata": {
        "id": "0R51KEjZqmwQ"
      },
      "execution_count": null,
      "outputs": []
    }
  ]
}